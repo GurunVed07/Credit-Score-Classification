{
 "cells": [
  {
   "cell_type": "markdown",
   "id": "f1e0777f",
   "metadata": {},
   "source": [
    "## Importing libraries"
   ]
  },
  {
   "cell_type": "code",
   "execution_count": 1,
   "id": "7152a39a",
   "metadata": {},
   "outputs": [
    {
     "name": "stderr",
     "output_type": "stream",
     "text": [
      "C:\\Users\\GM\\anaconda3\\lib\\site-packages\\scipy\\__init__.py:146: UserWarning: A NumPy version >=1.16.5 and <1.23.0 is required for this version of SciPy (detected version 1.25.1\n",
      "  warnings.warn(f\"A NumPy version >={np_minversion} and <{np_maxversion}\"\n"
     ]
    }
   ],
   "source": [
    "import numpy as np\n",
    "import pandas as pd\n",
    "import matplotlib.pyplot as plt\n",
    "import seaborn as sns\n",
    "from scipy.stats import probplot\n",
    "import warnings\n",
    "warnings.filterwarnings(\"ignore\")\n",
    "import re"
   ]
  },
  {
   "cell_type": "markdown",
   "id": "18eb99c0",
   "metadata": {},
   "source": [
    "## Loading Dataset"
   ]
  },
  {
   "cell_type": "code",
   "execution_count": 2,
   "id": "78e9f63b",
   "metadata": {
    "scrolled": true
   },
   "outputs": [],
   "source": [
    "train  = pd.read_csv(\"train.csv\")\n",
    "test = pd.read_csv(\"test.csv\")"
   ]
  },
  {
   "cell_type": "code",
   "execution_count": 3,
   "id": "19b50284",
   "metadata": {},
   "outputs": [
    {
     "data": {
      "text/html": [
       "<div>\n",
       "<style scoped>\n",
       "    .dataframe tbody tr th:only-of-type {\n",
       "        vertical-align: middle;\n",
       "    }\n",
       "\n",
       "    .dataframe tbody tr th {\n",
       "        vertical-align: top;\n",
       "    }\n",
       "\n",
       "    .dataframe thead th {\n",
       "        text-align: right;\n",
       "    }\n",
       "</style>\n",
       "<table border=\"1\" class=\"dataframe\">\n",
       "  <thead>\n",
       "    <tr style=\"text-align: right;\">\n",
       "      <th></th>\n",
       "      <th>ID</th>\n",
       "      <th>Customer_ID</th>\n",
       "      <th>Month</th>\n",
       "      <th>Name</th>\n",
       "      <th>Age</th>\n",
       "      <th>SSN</th>\n",
       "      <th>Occupation</th>\n",
       "      <th>Annual_Income</th>\n",
       "      <th>Monthly_Inhand_Salary</th>\n",
       "      <th>Num_Bank_Accounts</th>\n",
       "      <th>...</th>\n",
       "      <th>Credit_Mix</th>\n",
       "      <th>Outstanding_Debt</th>\n",
       "      <th>Credit_Utilization_Ratio</th>\n",
       "      <th>Credit_History_Age</th>\n",
       "      <th>Payment_of_Min_Amount</th>\n",
       "      <th>Total_EMI_per_month</th>\n",
       "      <th>Amount_invested_monthly</th>\n",
       "      <th>Payment_Behaviour</th>\n",
       "      <th>Monthly_Balance</th>\n",
       "      <th>Credit_Score</th>\n",
       "    </tr>\n",
       "  </thead>\n",
       "  <tbody>\n",
       "    <tr>\n",
       "      <th>0</th>\n",
       "      <td>0x1602</td>\n",
       "      <td>CUS_0xd40</td>\n",
       "      <td>January</td>\n",
       "      <td>Aaron Maashoh</td>\n",
       "      <td>23</td>\n",
       "      <td>821-00-0265</td>\n",
       "      <td>Scientist</td>\n",
       "      <td>19114.12</td>\n",
       "      <td>1824.843333</td>\n",
       "      <td>3</td>\n",
       "      <td>...</td>\n",
       "      <td>_</td>\n",
       "      <td>809.98</td>\n",
       "      <td>26.822620</td>\n",
       "      <td>22 Years and 1 Months</td>\n",
       "      <td>No</td>\n",
       "      <td>49.574949</td>\n",
       "      <td>80.41529543900253</td>\n",
       "      <td>High_spent_Small_value_payments</td>\n",
       "      <td>312.49408867943663</td>\n",
       "      <td>Good</td>\n",
       "    </tr>\n",
       "    <tr>\n",
       "      <th>1</th>\n",
       "      <td>0x1603</td>\n",
       "      <td>CUS_0xd40</td>\n",
       "      <td>February</td>\n",
       "      <td>Aaron Maashoh</td>\n",
       "      <td>23</td>\n",
       "      <td>821-00-0265</td>\n",
       "      <td>Scientist</td>\n",
       "      <td>19114.12</td>\n",
       "      <td>NaN</td>\n",
       "      <td>3</td>\n",
       "      <td>...</td>\n",
       "      <td>Good</td>\n",
       "      <td>809.98</td>\n",
       "      <td>31.944960</td>\n",
       "      <td>NaN</td>\n",
       "      <td>No</td>\n",
       "      <td>49.574949</td>\n",
       "      <td>118.28022162236736</td>\n",
       "      <td>Low_spent_Large_value_payments</td>\n",
       "      <td>284.62916249607184</td>\n",
       "      <td>Good</td>\n",
       "    </tr>\n",
       "    <tr>\n",
       "      <th>2</th>\n",
       "      <td>0x1604</td>\n",
       "      <td>CUS_0xd40</td>\n",
       "      <td>March</td>\n",
       "      <td>Aaron Maashoh</td>\n",
       "      <td>-500</td>\n",
       "      <td>821-00-0265</td>\n",
       "      <td>Scientist</td>\n",
       "      <td>19114.12</td>\n",
       "      <td>NaN</td>\n",
       "      <td>3</td>\n",
       "      <td>...</td>\n",
       "      <td>Good</td>\n",
       "      <td>809.98</td>\n",
       "      <td>28.609352</td>\n",
       "      <td>22 Years and 3 Months</td>\n",
       "      <td>No</td>\n",
       "      <td>49.574949</td>\n",
       "      <td>81.699521264648</td>\n",
       "      <td>Low_spent_Medium_value_payments</td>\n",
       "      <td>331.2098628537912</td>\n",
       "      <td>Good</td>\n",
       "    </tr>\n",
       "    <tr>\n",
       "      <th>3</th>\n",
       "      <td>0x1605</td>\n",
       "      <td>CUS_0xd40</td>\n",
       "      <td>April</td>\n",
       "      <td>Aaron Maashoh</td>\n",
       "      <td>23</td>\n",
       "      <td>821-00-0265</td>\n",
       "      <td>Scientist</td>\n",
       "      <td>19114.12</td>\n",
       "      <td>NaN</td>\n",
       "      <td>3</td>\n",
       "      <td>...</td>\n",
       "      <td>Good</td>\n",
       "      <td>809.98</td>\n",
       "      <td>31.377862</td>\n",
       "      <td>22 Years and 4 Months</td>\n",
       "      <td>No</td>\n",
       "      <td>49.574949</td>\n",
       "      <td>199.4580743910713</td>\n",
       "      <td>Low_spent_Small_value_payments</td>\n",
       "      <td>223.45130972736786</td>\n",
       "      <td>Good</td>\n",
       "    </tr>\n",
       "    <tr>\n",
       "      <th>4</th>\n",
       "      <td>0x1606</td>\n",
       "      <td>CUS_0xd40</td>\n",
       "      <td>May</td>\n",
       "      <td>Aaron Maashoh</td>\n",
       "      <td>23</td>\n",
       "      <td>821-00-0265</td>\n",
       "      <td>Scientist</td>\n",
       "      <td>19114.12</td>\n",
       "      <td>1824.843333</td>\n",
       "      <td>3</td>\n",
       "      <td>...</td>\n",
       "      <td>Good</td>\n",
       "      <td>809.98</td>\n",
       "      <td>24.797347</td>\n",
       "      <td>22 Years and 5 Months</td>\n",
       "      <td>No</td>\n",
       "      <td>49.574949</td>\n",
       "      <td>41.420153086217326</td>\n",
       "      <td>High_spent_Medium_value_payments</td>\n",
       "      <td>341.48923103222177</td>\n",
       "      <td>Good</td>\n",
       "    </tr>\n",
       "  </tbody>\n",
       "</table>\n",
       "<p>5 rows × 28 columns</p>\n",
       "</div>"
      ],
      "text/plain": [
       "       ID Customer_ID     Month           Name   Age          SSN Occupation  \\\n",
       "0  0x1602   CUS_0xd40   January  Aaron Maashoh    23  821-00-0265  Scientist   \n",
       "1  0x1603   CUS_0xd40  February  Aaron Maashoh    23  821-00-0265  Scientist   \n",
       "2  0x1604   CUS_0xd40     March  Aaron Maashoh  -500  821-00-0265  Scientist   \n",
       "3  0x1605   CUS_0xd40     April  Aaron Maashoh    23  821-00-0265  Scientist   \n",
       "4  0x1606   CUS_0xd40       May  Aaron Maashoh    23  821-00-0265  Scientist   \n",
       "\n",
       "  Annual_Income  Monthly_Inhand_Salary  Num_Bank_Accounts  ...  Credit_Mix  \\\n",
       "0      19114.12            1824.843333                  3  ...           _   \n",
       "1      19114.12                    NaN                  3  ...        Good   \n",
       "2      19114.12                    NaN                  3  ...        Good   \n",
       "3      19114.12                    NaN                  3  ...        Good   \n",
       "4      19114.12            1824.843333                  3  ...        Good   \n",
       "\n",
       "   Outstanding_Debt Credit_Utilization_Ratio     Credit_History_Age  \\\n",
       "0            809.98                26.822620  22 Years and 1 Months   \n",
       "1            809.98                31.944960                    NaN   \n",
       "2            809.98                28.609352  22 Years and 3 Months   \n",
       "3            809.98                31.377862  22 Years and 4 Months   \n",
       "4            809.98                24.797347  22 Years and 5 Months   \n",
       "\n",
       "   Payment_of_Min_Amount Total_EMI_per_month Amount_invested_monthly  \\\n",
       "0                     No           49.574949       80.41529543900253   \n",
       "1                     No           49.574949      118.28022162236736   \n",
       "2                     No           49.574949         81.699521264648   \n",
       "3                     No           49.574949       199.4580743910713   \n",
       "4                     No           49.574949      41.420153086217326   \n",
       "\n",
       "                  Payment_Behaviour     Monthly_Balance Credit_Score  \n",
       "0   High_spent_Small_value_payments  312.49408867943663         Good  \n",
       "1    Low_spent_Large_value_payments  284.62916249607184         Good  \n",
       "2   Low_spent_Medium_value_payments   331.2098628537912         Good  \n",
       "3    Low_spent_Small_value_payments  223.45130972736786         Good  \n",
       "4  High_spent_Medium_value_payments  341.48923103222177         Good  \n",
       "\n",
       "[5 rows x 28 columns]"
      ]
     },
     "execution_count": 3,
     "metadata": {},
     "output_type": "execute_result"
    }
   ],
   "source": [
    "train.head()"
   ]
  },
  {
   "cell_type": "markdown",
   "id": "4d6f9fd9",
   "metadata": {},
   "source": [
    "## Understanding and examining the dataset "
   ]
  },
  {
   "cell_type": "code",
   "execution_count": 4,
   "id": "6869c4c4",
   "metadata": {},
   "outputs": [
    {
     "data": {
      "text/plain": [
       "(100000, 28)"
      ]
     },
     "execution_count": 4,
     "metadata": {},
     "output_type": "execute_result"
    }
   ],
   "source": [
    "train.shape"
   ]
  },
  {
   "cell_type": "code",
   "execution_count": 5,
   "id": "31c59bfa",
   "metadata": {
    "scrolled": false
   },
   "outputs": [
    {
     "name": "stdout",
     "output_type": "stream",
     "text": [
      "<class 'pandas.core.frame.DataFrame'>\n",
      "RangeIndex: 100000 entries, 0 to 99999\n",
      "Data columns (total 28 columns):\n",
      " #   Column                    Non-Null Count   Dtype  \n",
      "---  ------                    --------------   -----  \n",
      " 0   ID                        100000 non-null  object \n",
      " 1   Customer_ID               100000 non-null  object \n",
      " 2   Month                     100000 non-null  object \n",
      " 3   Name                      90015 non-null   object \n",
      " 4   Age                       100000 non-null  object \n",
      " 5   SSN                       100000 non-null  object \n",
      " 6   Occupation                100000 non-null  object \n",
      " 7   Annual_Income             100000 non-null  object \n",
      " 8   Monthly_Inhand_Salary     84998 non-null   float64\n",
      " 9   Num_Bank_Accounts         100000 non-null  int64  \n",
      " 10  Num_Credit_Card           100000 non-null  int64  \n",
      " 11  Interest_Rate             100000 non-null  int64  \n",
      " 12  Num_of_Loan               100000 non-null  object \n",
      " 13  Type_of_Loan              88592 non-null   object \n",
      " 14  Delay_from_due_date       100000 non-null  int64  \n",
      " 15  Num_of_Delayed_Payment    92998 non-null   object \n",
      " 16  Changed_Credit_Limit      100000 non-null  object \n",
      " 17  Num_Credit_Inquiries      98035 non-null   float64\n",
      " 18  Credit_Mix                100000 non-null  object \n",
      " 19  Outstanding_Debt          100000 non-null  object \n",
      " 20  Credit_Utilization_Ratio  100000 non-null  float64\n",
      " 21  Credit_History_Age        90970 non-null   object \n",
      " 22  Payment_of_Min_Amount     100000 non-null  object \n",
      " 23  Total_EMI_per_month       100000 non-null  float64\n",
      " 24  Amount_invested_monthly   95521 non-null   object \n",
      " 25  Payment_Behaviour         100000 non-null  object \n",
      " 26  Monthly_Balance           98800 non-null   object \n",
      " 27  Credit_Score              100000 non-null  object \n",
      "dtypes: float64(4), int64(4), object(20)\n",
      "memory usage: 21.4+ MB\n"
     ]
    }
   ],
   "source": [
    "train.info()"
   ]
  },
  {
   "cell_type": "code",
   "execution_count": 6,
   "id": "d76a60c0",
   "metadata": {},
   "outputs": [
    {
     "data": {
      "text/plain": [
       "ID                              0\n",
       "Customer_ID                     0\n",
       "Month                           0\n",
       "Name                         9985\n",
       "Age                             0\n",
       "SSN                             0\n",
       "Occupation                      0\n",
       "Annual_Income                   0\n",
       "Monthly_Inhand_Salary       15002\n",
       "Num_Bank_Accounts               0\n",
       "Num_Credit_Card                 0\n",
       "Interest_Rate                   0\n",
       "Num_of_Loan                     0\n",
       "Type_of_Loan                11408\n",
       "Delay_from_due_date             0\n",
       "Num_of_Delayed_Payment       7002\n",
       "Changed_Credit_Limit            0\n",
       "Num_Credit_Inquiries         1965\n",
       "Credit_Mix                      0\n",
       "Outstanding_Debt                0\n",
       "Credit_Utilization_Ratio        0\n",
       "Credit_History_Age           9030\n",
       "Payment_of_Min_Amount           0\n",
       "Total_EMI_per_month             0\n",
       "Amount_invested_monthly      4479\n",
       "Payment_Behaviour               0\n",
       "Monthly_Balance              1200\n",
       "Credit_Score                    0\n",
       "dtype: int64"
      ]
     },
     "execution_count": 6,
     "metadata": {},
     "output_type": "execute_result"
    }
   ],
   "source": [
    "train.isna().sum()"
   ]
  },
  {
   "cell_type": "code",
   "execution_count": 7,
   "id": "3aa79994",
   "metadata": {},
   "outputs": [
    {
     "data": {
      "image/png": "[encoded data removed]",
      "text/plain": [
       "<Figure size 600x400 with 1 Axes>"
      ]
     },
     "metadata": {
      "needs_background": "light"
     },
     "output_type": "display_data"
    }
   ],
   "source": [
    "plt.figure(dpi=100)\n",
    "cs = sns.countplot(x='Credit_Score', data=train, palette='winter')\n",
    "ax = plt.gca()\n",
    "ax.spines['top'].set_visible(False)\n",
    "ax.spines['right'].set_visible(False)\n",
    "for container in cs.containers:\n",
    "    cs.bar_label(container, fontsize=10, fontweight='bold')\n",
    "plt.show()    "
   ]
  },
  {
   "cell_type": "code",
   "execution_count": 8,
   "id": "0d8f47fc",
   "metadata": {},
   "outputs": [
    {
     "data": {
      "image/png": "[encoded data removed]",
      "text/plain": [
       "<Figure size 600x400 with 1 Axes>"
      ]
     },
     "metadata": {
      "needs_background": "light"
     },
     "output_type": "display_data"
    }
   ],
   "source": [
    "plt.figure(dpi=100)\n",
    "cm = sns.countplot(x='Credit_Mix', data=train, palette='bright')\n",
    "ax = plt.gca()\n",
    "ax.spines['top'].set_visible(False)\n",
    "ax.spines['right'].set_visible(False)\n",
    "for container in cm.containers:\n",
    "    cm.bar_label(container, fontsize=10, fontweight='bold')\n",
    "plt.show()  "
   ]
  },
  {
   "cell_type": "markdown",
   "id": "8e216774",
   "metadata": {},
   "source": [
    "### Correlation"
   ]
  },
  {
   "cell_type": "code",
   "execution_count": 9,
   "id": "7a09ef16",
   "metadata": {},
   "outputs": [
    {
     "data": {
      "image/png": "[encoded data removed]",
      "text/plain": [
       "<Figure size 864x504 with 2 Axes>"
      ]
     },
     "metadata": {
      "needs_background": "light"
     },
     "output_type": "display_data"
    }
   ],
   "source": [
    "plt.figure(figsize=(12,7))\n",
    "train_num = train.select_dtypes('number')\n",
    "sns.heatmap(np.round(train_num.corr(),2), cmap='Greens', center=0, annot=True)\n",
    "plt.title(\"Features Correlation\", fontweight='bold')\n",
    "plt.show()"
   ]
  },
  {
   "cell_type": "code",
   "execution_count": 10,
   "id": "8060957d",
   "metadata": {},
   "outputs": [
    {
     "data": {
      "image/png": "[encoded data removed]",
      "text/plain": [
       "<Figure size 1800x1440 with 9 Axes>"
      ]
     },
     "metadata": {
      "needs_background": "light"
     },
     "output_type": "display_data"
    }
   ],
   "source": [
    "%matplotlib inline\n",
    "train.hist(bins=50, figsize=(25,20), color='k')\n",
    "plt.show()"
   ]
  },
  {
   "cell_type": "markdown",
   "id": "13ec037c",
   "metadata": {},
   "source": [
    "## Feature Engineering"
   ]
  },
  {
   "cell_type": "code",
   "execution_count": 11,
   "id": "6d01ccfd",
   "metadata": {},
   "outputs": [],
   "source": [
    "train.columns = [x.lower() for x in train.columns]"
   ]
  },
  {
   "cell_type": "code",
   "execution_count": 12,
   "id": "370344b6",
   "metadata": {},
   "outputs": [
    {
     "data": {
      "text/plain": [
       "0"
      ]
     },
     "execution_count": 12,
     "metadata": {},
     "output_type": "execute_result"
    }
   ],
   "source": [
    "train.duplicated().sum()"
   ]
  },
  {
   "cell_type": "markdown",
   "id": "6df9b5dc",
   "metadata": {},
   "source": [
    "### Data Cleaning"
   ]
  },
  {
   "cell_type": "code",
   "execution_count": 13,
   "id": "69bec20f",
   "metadata": {},
   "outputs": [],
   "source": [
    "train = train[train.delay_from_due_date >= 0]\n",
    "train = train[train.num_bank_accounts >= 0]"
   ]
  },
  {
   "cell_type": "markdown",
   "id": "0803d036",
   "metadata": {},
   "source": [
    "##### Skewness and Kurtosis of Features"
   ]
  },
  {
   "cell_type": "code",
   "execution_count": 14,
   "id": "e19d2cf1",
   "metadata": {
    "scrolled": false
   },
   "outputs": [
    {
     "name": "stdout",
     "output_type": "stream",
     "text": [
      "Skewness of monthly_inhand_salary: 1.1297108607919126\n",
      "Kurtosis of monthly_inhand_salary: 0.6247005119590794\n"
     ]
    },
    {
     "name": "stderr",
     "output_type": "stream",
     "text": [
      "posx and posy should be finite values\n",
      "posx and posy should be finite values\n"
     ]
    },
    {
     "data": {
      "image/png": "[encoded data removed]",
      "text/plain": [
       "<Figure size 1008x288 with 2 Axes>"
      ]
     },
     "metadata": {
      "needs_background": "light"
     },
     "output_type": "display_data"
    },
    {
     "name": "stdout",
     "output_type": "stream",
     "text": [
      "Skewness of num_bank_accounts: 11.203154969101302\n",
      "Kurtosis of num_bank_accounts: 132.54303640103976\n"
     ]
    },
    {
     "data": {
      "image/png": "[encoded data removed]",
      "text/plain": [
       "<Figure size 1008x288 with 2 Axes>"
      ]
     },
     "metadata": {
      "needs_background": "light"
     },
     "output_type": "display_data"
    },
    {
     "name": "stdout",
     "output_type": "stream",
     "text": [
      "Skewness of num_credit_card: 8.461639049589559\n",
      "Kurtosis of num_credit_card: 74.59934574253393\n"
     ]
    },
    {
     "data": {
      "image/png": "[encoded data removed]",
      "text/plain": [
       "<Figure size 1008x288 with 2 Axes>"
      ]
     },
     "metadata": {
      "needs_background": "light"
     },
     "output_type": "display_data"
    },
    {
     "name": "stdout",
     "output_type": "stream",
     "text": [
      "Skewness of interest_rate: 9.0069520313847\n",
      "Kurtosis of interest_rate: 85.20332631801504\n"
     ]
    },
    {
     "data": {
      "image/png": "[encoded data removed]",
      "text/plain": [
       "<Figure size 1008x288 with 2 Axes>"
      ]
     },
     "metadata": {
      "needs_background": "light"
     },
     "output_type": "display_data"
    },
    {
     "name": "stdout",
     "output_type": "stream",
     "text": [
      "Skewness of delay_from_due_date: 0.9802816782055186\n",
      "Kurtosis of delay_from_due_date: 0.3534575301144458\n"
     ]
    },
    {
     "data": {
      "image/png": "[encoded data removed]",
      "text/plain": [
       "<Figure size 1008x288 with 2 Axes>"
      ]
     },
     "metadata": {
      "needs_background": "light"
     },
     "output_type": "display_data"
    },
    {
     "name": "stdout",
     "output_type": "stream",
     "text": [
      "Skewness of num_credit_inquiries: 9.795833655787508\n",
      "Kurtosis of num_credit_inquiries: 100.79510061365934\n"
     ]
    },
    {
     "name": "stderr",
     "output_type": "stream",
     "text": [
      "posx and posy should be finite values\n",
      "posx and posy should be finite values\n"
     ]
    },
    {
     "data": {
      "image/png": "[encoded data removed]",
      "text/plain": [
       "<Figure size 1008x288 with 2 Axes>"
      ]
     },
     "metadata": {
      "needs_background": "light"
     },
     "output_type": "display_data"
    },
    {
     "name": "stdout",
     "output_type": "stream",
     "text": [
      "Skewness of credit_utilization_ratio: 0.02824152097518821\n",
      "Kurtosis of credit_utilization_ratio: -0.9451947720878859\n"
     ]
    },
    {
     "data": {
      "image/png": "[encoded data removed]",
      "text/plain": [
       "<Figure size 1008x288 with 2 Axes>"
      ]
     },
     "metadata": {
      "needs_background": "light"
     },
     "output_type": "display_data"
    },
    {
     "name": "stdout",
     "output_type": "stream",
     "text": [
      "Skewness of total_emi_per_month: 7.09797645313809\n",
      "Kurtosis of total_emi_per_month: 52.15856000355844\n"
     ]
    },
    {
     "data": {
      "image/png": "[encoded data removed]",
      "text/plain": [
       "<Figure size 1008x288 with 2 Axes>"
      ]
     },
     "metadata": {
      "needs_background": "light"
     },
     "output_type": "display_data"
    }
   ],
   "source": [
    "for col in train.select_dtypes(np.number).columns:\n",
    "    print(f\"Skewness of {col}:\", train[col].skew())\n",
    "    print(f\"Kurtosis of {col}:\", train[col].kurtosis())\n",
    "    \n",
    "    plt.figure(figsize=(14,4))\n",
    "    plt.subplot(131)\n",
    "    sns.distplot(train[col], color='mediumblue')\n",
    "    plt.subplot(132)\n",
    "    probplot(train[col], rvalue=True, plot=plt, dist='norm')\n",
    "    plt.suptitle(col)\n",
    "    plt.show()"
   ]
  },
  {
   "cell_type": "markdown",
   "id": "16432a2f",
   "metadata": {},
   "source": [
    "### Dealing with missing values"
   ]
  },
  {
   "cell_type": "code",
   "execution_count": 15,
   "id": "07b8980f",
   "metadata": {},
   "outputs": [],
   "source": [
    "from sklearn.impute import SimpleImputer\n",
    "from sklearn.experimental import enable_iterative_imputer\n",
    "from sklearn.impute import IterativeImputer"
   ]
  },
  {
   "cell_type": "code",
   "execution_count": 16,
   "id": "0f00d261",
   "metadata": {},
   "outputs": [],
   "source": [
    "missing_values = ['name', 'monthly_inhand_salary', 'type_of_loan', 'num_of_delayed_payment', \n",
    "                  'num_credit_inquiries', 'credit_history_age', 'amount_invested_monthly', 'monthly_balance']\n",
    "\n",
    "for col in missing_values:\n",
    "    if train[col].dtypes == object:\n",
    "        imputer = SimpleImputer(strategy = 'most_frequent')\n",
    "        train[col] = imputer.fit_transform(train[[col]])\n",
    "    \n",
    "    else:\n",
    "        imputer = IterativeImputer()\n",
    "        train[col] = imputer.fit_transform(train[[col]])\n",
    "    "
   ]
  },
  {
   "cell_type": "code",
   "execution_count": 17,
   "id": "053e9c7d",
   "metadata": {},
   "outputs": [
    {
     "data": {
      "text/plain": [
       "id                          0\n",
       "customer_id                 0\n",
       "month                       0\n",
       "name                        0\n",
       "age                         0\n",
       "ssn                         0\n",
       "occupation                  0\n",
       "annual_income               0\n",
       "monthly_inhand_salary       0\n",
       "num_bank_accounts           0\n",
       "num_credit_card             0\n",
       "interest_rate               0\n",
       "num_of_loan                 0\n",
       "type_of_loan                0\n",
       "delay_from_due_date         0\n",
       "num_of_delayed_payment      0\n",
       "changed_credit_limit        0\n",
       "num_credit_inquiries        0\n",
       "credit_mix                  0\n",
       "outstanding_debt            0\n",
       "credit_utilization_ratio    0\n",
       "credit_history_age          0\n",
       "payment_of_min_amount       0\n",
       "total_emi_per_month         0\n",
       "amount_invested_monthly     0\n",
       "payment_behaviour           0\n",
       "monthly_balance             0\n",
       "credit_score                0\n",
       "dtype: int64"
      ]
     },
     "execution_count": 17,
     "metadata": {},
     "output_type": "execute_result"
    }
   ],
   "source": [
    "train.isna().sum()"
   ]
  },
  {
   "cell_type": "markdown",
   "id": "6cfcca40",
   "metadata": {},
   "source": [
    "### Data Preprocessing"
   ]
  },
  {
   "cell_type": "code",
   "execution_count": 18,
   "id": "58548efa",
   "metadata": {},
   "outputs": [],
   "source": [
    "def text_clean(data):\n",
    "    if data is np.NaN or not isinstance(data, str):\n",
    "        return data\n",
    "    else:\n",
    "        return str(data).strip('_ ,\"')"
   ]
  },
  {
   "cell_type": "code",
   "execution_count": 19,
   "id": "69a8e770",
   "metadata": {},
   "outputs": [
    {
     "data": {
      "text/html": [
       "<div>\n",
       "<style scoped>\n",
       "    .dataframe tbody tr th:only-of-type {\n",
       "        vertical-align: middle;\n",
       "    }\n",
       "\n",
       "    .dataframe tbody tr th {\n",
       "        vertical-align: top;\n",
       "    }\n",
       "\n",
       "    .dataframe thead th {\n",
       "        text-align: right;\n",
       "    }\n",
       "</style>\n",
       "<table border=\"1\" class=\"dataframe\">\n",
       "  <thead>\n",
       "    <tr style=\"text-align: right;\">\n",
       "      <th></th>\n",
       "      <th>id</th>\n",
       "      <th>customer_id</th>\n",
       "      <th>month</th>\n",
       "      <th>name</th>\n",
       "      <th>age</th>\n",
       "      <th>ssn</th>\n",
       "      <th>occupation</th>\n",
       "      <th>annual_income</th>\n",
       "      <th>monthly_inhand_salary</th>\n",
       "      <th>num_bank_accounts</th>\n",
       "      <th>...</th>\n",
       "      <th>credit_mix</th>\n",
       "      <th>outstanding_debt</th>\n",
       "      <th>credit_utilization_ratio</th>\n",
       "      <th>credit_history_age</th>\n",
       "      <th>payment_of_min_amount</th>\n",
       "      <th>total_emi_per_month</th>\n",
       "      <th>amount_invested_monthly</th>\n",
       "      <th>payment_behaviour</th>\n",
       "      <th>monthly_balance</th>\n",
       "      <th>credit_score</th>\n",
       "    </tr>\n",
       "  </thead>\n",
       "  <tbody>\n",
       "    <tr>\n",
       "      <th>0</th>\n",
       "      <td>0x1602</td>\n",
       "      <td>CUS_0xd40</td>\n",
       "      <td>January</td>\n",
       "      <td>Aaron Maashoh</td>\n",
       "      <td>23</td>\n",
       "      <td>821-00-0265</td>\n",
       "      <td>Scientist</td>\n",
       "      <td>19114.12</td>\n",
       "      <td>1824.843333</td>\n",
       "      <td>3</td>\n",
       "      <td>...</td>\n",
       "      <td>NaN</td>\n",
       "      <td>809.98</td>\n",
       "      <td>26.822620</td>\n",
       "      <td>22 Years and 1 Months</td>\n",
       "      <td>No</td>\n",
       "      <td>49.574949</td>\n",
       "      <td>80.41529543900253</td>\n",
       "      <td>High_spent_Small_value_payments</td>\n",
       "      <td>312.49408867943663</td>\n",
       "      <td>Good</td>\n",
       "    </tr>\n",
       "    <tr>\n",
       "      <th>2</th>\n",
       "      <td>0x1604</td>\n",
       "      <td>CUS_0xd40</td>\n",
       "      <td>March</td>\n",
       "      <td>Aaron Maashoh</td>\n",
       "      <td>-500</td>\n",
       "      <td>821-00-0265</td>\n",
       "      <td>Scientist</td>\n",
       "      <td>19114.12</td>\n",
       "      <td>4184.712202</td>\n",
       "      <td>3</td>\n",
       "      <td>...</td>\n",
       "      <td>Good</td>\n",
       "      <td>809.98</td>\n",
       "      <td>28.609352</td>\n",
       "      <td>22 Years and 3 Months</td>\n",
       "      <td>No</td>\n",
       "      <td>49.574949</td>\n",
       "      <td>81.699521264648</td>\n",
       "      <td>Low_spent_Medium_value_payments</td>\n",
       "      <td>331.2098628537912</td>\n",
       "      <td>Good</td>\n",
       "    </tr>\n",
       "    <tr>\n",
       "      <th>3</th>\n",
       "      <td>0x1605</td>\n",
       "      <td>CUS_0xd40</td>\n",
       "      <td>April</td>\n",
       "      <td>Aaron Maashoh</td>\n",
       "      <td>23</td>\n",
       "      <td>821-00-0265</td>\n",
       "      <td>Scientist</td>\n",
       "      <td>19114.12</td>\n",
       "      <td>4184.712202</td>\n",
       "      <td>3</td>\n",
       "      <td>...</td>\n",
       "      <td>Good</td>\n",
       "      <td>809.98</td>\n",
       "      <td>31.377862</td>\n",
       "      <td>22 Years and 4 Months</td>\n",
       "      <td>No</td>\n",
       "      <td>49.574949</td>\n",
       "      <td>199.4580743910713</td>\n",
       "      <td>Low_spent_Small_value_payments</td>\n",
       "      <td>223.45130972736786</td>\n",
       "      <td>Good</td>\n",
       "    </tr>\n",
       "    <tr>\n",
       "      <th>4</th>\n",
       "      <td>0x1606</td>\n",
       "      <td>CUS_0xd40</td>\n",
       "      <td>May</td>\n",
       "      <td>Aaron Maashoh</td>\n",
       "      <td>23</td>\n",
       "      <td>821-00-0265</td>\n",
       "      <td>Scientist</td>\n",
       "      <td>19114.12</td>\n",
       "      <td>1824.843333</td>\n",
       "      <td>3</td>\n",
       "      <td>...</td>\n",
       "      <td>Good</td>\n",
       "      <td>809.98</td>\n",
       "      <td>24.797347</td>\n",
       "      <td>22 Years and 5 Months</td>\n",
       "      <td>No</td>\n",
       "      <td>49.574949</td>\n",
       "      <td>41.420153086217326</td>\n",
       "      <td>High_spent_Medium_value_payments</td>\n",
       "      <td>341.48923103222177</td>\n",
       "      <td>Good</td>\n",
       "    </tr>\n",
       "    <tr>\n",
       "      <th>5</th>\n",
       "      <td>0x1607</td>\n",
       "      <td>CUS_0xd40</td>\n",
       "      <td>June</td>\n",
       "      <td>Aaron Maashoh</td>\n",
       "      <td>23</td>\n",
       "      <td>821-00-0265</td>\n",
       "      <td>Scientist</td>\n",
       "      <td>19114.12</td>\n",
       "      <td>4184.712202</td>\n",
       "      <td>3</td>\n",
       "      <td>...</td>\n",
       "      <td>Good</td>\n",
       "      <td>809.98</td>\n",
       "      <td>27.262259</td>\n",
       "      <td>22 Years and 6 Months</td>\n",
       "      <td>No</td>\n",
       "      <td>49.574949</td>\n",
       "      <td>62.430172331195294</td>\n",
       "      <td>NaN</td>\n",
       "      <td>340.4792117872438</td>\n",
       "      <td>Good</td>\n",
       "    </tr>\n",
       "  </tbody>\n",
       "</table>\n",
       "<p>5 rows × 28 columns</p>\n",
       "</div>"
      ],
      "text/plain": [
       "       id customer_id    month           name   age          ssn occupation  \\\n",
       "0  0x1602   CUS_0xd40  January  Aaron Maashoh    23  821-00-0265  Scientist   \n",
       "2  0x1604   CUS_0xd40    March  Aaron Maashoh  -500  821-00-0265  Scientist   \n",
       "3  0x1605   CUS_0xd40    April  Aaron Maashoh    23  821-00-0265  Scientist   \n",
       "4  0x1606   CUS_0xd40      May  Aaron Maashoh    23  821-00-0265  Scientist   \n",
       "5  0x1607   CUS_0xd40     June  Aaron Maashoh    23  821-00-0265  Scientist   \n",
       "\n",
       "  annual_income  monthly_inhand_salary  num_bank_accounts  ...  credit_mix  \\\n",
       "0      19114.12            1824.843333                  3  ...         NaN   \n",
       "2      19114.12            4184.712202                  3  ...        Good   \n",
       "3      19114.12            4184.712202                  3  ...        Good   \n",
       "4      19114.12            1824.843333                  3  ...        Good   \n",
       "5      19114.12            4184.712202                  3  ...        Good   \n",
       "\n",
       "   outstanding_debt credit_utilization_ratio     credit_history_age  \\\n",
       "0            809.98                26.822620  22 Years and 1 Months   \n",
       "2            809.98                28.609352  22 Years and 3 Months   \n",
       "3            809.98                31.377862  22 Years and 4 Months   \n",
       "4            809.98                24.797347  22 Years and 5 Months   \n",
       "5            809.98                27.262259  22 Years and 6 Months   \n",
       "\n",
       "   payment_of_min_amount total_emi_per_month amount_invested_monthly  \\\n",
       "0                     No           49.574949       80.41529543900253   \n",
       "2                     No           49.574949         81.699521264648   \n",
       "3                     No           49.574949       199.4580743910713   \n",
       "4                     No           49.574949      41.420153086217326   \n",
       "5                     No           49.574949      62.430172331195294   \n",
       "\n",
       "                  payment_behaviour     monthly_balance credit_score  \n",
       "0   High_spent_Small_value_payments  312.49408867943663         Good  \n",
       "2   Low_spent_Medium_value_payments   331.2098628537912         Good  \n",
       "3    Low_spent_Small_value_payments  223.45130972736786         Good  \n",
       "4  High_spent_Medium_value_payments  341.48923103222177         Good  \n",
       "5                               NaN   340.4792117872438         Good  \n",
       "\n",
       "[5 rows x 28 columns]"
      ]
     },
     "execution_count": 19,
     "metadata": {},
     "output_type": "execute_result"
    }
   ],
   "source": [
    "train = train.applymap(text_clean).replace(['', 'nan', '#F%$D@*&8', '!@9#%8'], np.nan)\n",
    "train.head()"
   ]
  },
  {
   "cell_type": "code",
   "execution_count": 20,
   "id": "f66b9565",
   "metadata": {},
   "outputs": [
    {
     "data": {
      "text/plain": [
       "id                              0\n",
       "customer_id                     0\n",
       "month                           0\n",
       "name                            0\n",
       "age                             0\n",
       "ssn                          5529\n",
       "occupation                   7007\n",
       "annual_income                   0\n",
       "monthly_inhand_salary           0\n",
       "num_bank_accounts               0\n",
       "num_credit_card                 0\n",
       "interest_rate                   0\n",
       "num_of_loan                     0\n",
       "type_of_loan                    0\n",
       "delay_from_due_date             0\n",
       "num_of_delayed_payment          0\n",
       "changed_credit_limit         2084\n",
       "num_credit_inquiries            0\n",
       "credit_mix                  20079\n",
       "outstanding_debt                0\n",
       "credit_utilization_ratio        0\n",
       "credit_history_age              0\n",
       "payment_of_min_amount           0\n",
       "total_emi_per_month             0\n",
       "amount_invested_monthly         0\n",
       "payment_behaviour            7551\n",
       "monthly_balance                 0\n",
       "credit_score                    0\n",
       "dtype: int64"
      ]
     },
     "execution_count": 20,
     "metadata": {},
     "output_type": "execute_result"
    }
   ],
   "source": [
    "train.isna().sum()"
   ]
  },
  {
   "cell_type": "code",
   "execution_count": 21,
   "id": "0ecc374e",
   "metadata": {},
   "outputs": [],
   "source": [
    "def month_convertor(x):\n",
    "    if pd.notnull(x):\n",
    "        num1 = int(x.split(' ')[0])\n",
    "        num2 = int(x.split(' ')[3])\n",
    "        \n",
    "        return (num1*12)+num2\n",
    "    else:\n",
    "        return x"
   ]
  },
  {
   "cell_type": "code",
   "execution_count": 22,
   "id": "4cb7fc13",
   "metadata": {},
   "outputs": [],
   "source": [
    "train.num_of_delayed_payment = train.num_of_delayed_payment.apply(lambda x: re.search('\\d+',x).group()).astype(np.int64)\n",
    "\n",
    "train.num_of_loan = train.num_of_loan.apply(lambda x: re.search('\\d+', x).group()).astype(np.int64)\n",
    "\n",
    "train.outstanding_debt = train.outstanding_debt.apply(lambda x: re.search('\\d+.\\d+', x).group()).astype(np.float64)\n",
    "\n",
    "train.annual_income = train.annual_income.apply(lambda x: re.search('\\d+.\\d+', str(x)).group()).astype(np.float64)\n",
    "\n",
    "train.ssn = train.ssn.apply(lambda x: int(''.join(x.split('-'))) if pd.notna(x) else x).astype(np.float64)\n",
    "\n",
    "train.id = train.id.apply(lambda x: int(x, 16)).astype(np.int64)\n",
    "\n",
    "train.customer_id = train.customer_id.apply(lambda x: int(x[4:],16)).astype(np.int64)\n",
    "\n",
    "train.credit_history_age = train.credit_history_age.apply(lambda x: month_convertor(x)).astype(np.float64)\n",
    "\n",
    "train.type_of_loan = train.type_of_loan.apply(lambda x: x.lower().replace('and', '').replace(', ', ',').strip() if pd.notna(x) else x)"
   ]
  },
  {
   "cell_type": "code",
   "execution_count": 23,
   "id": "32aecd7d",
   "metadata": {},
   "outputs": [],
   "source": [
    "train.month = pd.to_datetime(train.month, format = \"%B\").dt.month\n",
    "train.month = train.month.astype(np.int64)"
   ]
  },
  {
   "cell_type": "code",
   "execution_count": 24,
   "id": "cd6a2968",
   "metadata": {},
   "outputs": [],
   "source": [
    "train.amount_invested_monthly = train.amount_invested_monthly.apply(lambda x: re.search('(\\d+(?:\\.\\d+)?)', \n",
    "str(x)).group() if pd.notna(x) else x).astype(np.float64)\n",
    "\n",
    "train.monthly_balance = train.monthly_balance.apply(lambda x: re.search('(\\d+(?:\\.\\d+)?)', \n",
    "str(x)).group() if pd.notna(x) else x).astype(np.float64)\n",
    "\n",
    "train.changed_credit_limit = train.changed_credit_limit.apply(lambda x: re.search('(\\d+(?:\\.\\d+)?)',\n",
    "str(x)).group() if pd.notna(x) else x).astype(np.float64)"
   ]
  },
  {
   "cell_type": "code",
   "execution_count": 25,
   "id": "bf3e9e96",
   "metadata": {},
   "outputs": [
    {
     "data": {
      "text/plain": [
       "(96631, 28)"
      ]
     },
     "execution_count": 25,
     "metadata": {},
     "output_type": "execute_result"
    }
   ],
   "source": [
    "train.age = train.age.apply(lambda x: re.search('\\d+', x).group() if pd.notna(x) else x).astype(np.int64)\n",
    "train[train.age <= 120].shape"
   ]
  },
  {
   "cell_type": "markdown",
   "id": "06f3b4b5",
   "metadata": {},
   "source": [
    "### Categorical Values Encoding"
   ]
  },
  {
   "cell_type": "code",
   "execution_count": 26,
   "id": "b8114f58",
   "metadata": {},
   "outputs": [],
   "source": [
    "null_values = ['ssn', 'occupation', 'changed_credit_limit', 'credit_mix', \n",
    "               'amount_invested_monthly', 'payment_behaviour', 'monthly_balance']\n",
    "\n",
    "for col in null_values:\n",
    "    if train[col].dtypes == object:\n",
    "        imputer = SimpleImputer(strategy='most_frequent')\n",
    "        train[col] = imputer.fit_transform(train[[col]])\n",
    "        \n",
    "    else:\n",
    "        imputer = IterativeImputer()\n",
    "        train[col] = imputer.fit_transform(train[[col]])\n",
    "        "
   ]
  },
  {
   "cell_type": "code",
   "execution_count": 27,
   "id": "772323f2",
   "metadata": {},
   "outputs": [
    {
     "data": {
      "text/plain": [
       "id                          0\n",
       "customer_id                 0\n",
       "month                       0\n",
       "name                        0\n",
       "age                         0\n",
       "ssn                         0\n",
       "occupation                  0\n",
       "annual_income               0\n",
       "monthly_inhand_salary       0\n",
       "num_bank_accounts           0\n",
       "num_credit_card             0\n",
       "interest_rate               0\n",
       "num_of_loan                 0\n",
       "type_of_loan                0\n",
       "delay_from_due_date         0\n",
       "num_of_delayed_payment      0\n",
       "changed_credit_limit        0\n",
       "num_credit_inquiries        0\n",
       "credit_mix                  0\n",
       "outstanding_debt            0\n",
       "credit_utilization_ratio    0\n",
       "credit_history_age          0\n",
       "payment_of_min_amount       0\n",
       "total_emi_per_month         0\n",
       "amount_invested_monthly     0\n",
       "payment_behaviour           0\n",
       "monthly_balance             0\n",
       "credit_score                0\n",
       "dtype: int64"
      ]
     },
     "execution_count": 27,
     "metadata": {},
     "output_type": "execute_result"
    }
   ],
   "source": [
    "train.isna().sum()"
   ]
  },
  {
   "cell_type": "code",
   "execution_count": 28,
   "id": "d0c93f71",
   "metadata": {},
   "outputs": [],
   "source": [
    "from sklearn.preprocessing import StandardScaler, OrdinalEncoder, PowerTransformer, FunctionTransformer, OneHotEncoder, LabelEncoder"
   ]
  },
  {
   "cell_type": "code",
   "execution_count": 29,
   "id": "67cf719a",
   "metadata": {},
   "outputs": [
    {
     "data": {
      "text/plain": [
       "0        2.0\n",
       "2        3.0\n",
       "3        3.0\n",
       "4        3.0\n",
       "5        3.0\n",
       "        ... \n",
       "99995    2.0\n",
       "99996    2.0\n",
       "99997    3.0\n",
       "99998    3.0\n",
       "99999    3.0\n",
       "Name: credit_mix, Length: 99388, dtype: float64"
      ]
     },
     "execution_count": 29,
     "metadata": {},
     "output_type": "execute_result"
    }
   ],
   "source": [
    "encode_credit_mix = OrdinalEncoder(categories=[['_', 'Bad', 'Standard', 'Good']])\n",
    "train.credit_mix = encode_credit_mix.fit_transform(train[['credit_mix']])\n",
    "train.credit_mix = train.credit_mix.astype(np.float64)\n",
    "train.credit_mix"
   ]
  },
  {
   "cell_type": "code",
   "execution_count": 30,
   "id": "3ab7d3fc",
   "metadata": {},
   "outputs": [
    {
     "data": {
      "text/plain": [
       "0        1.0\n",
       "2        1.0\n",
       "3        1.0\n",
       "4        1.0\n",
       "5        1.0\n",
       "        ... \n",
       "99995    1.0\n",
       "99996    1.0\n",
       "99997    1.0\n",
       "99998    1.0\n",
       "99999    1.0\n",
       "Name: payment_of_min_amount, Length: 99388, dtype: float64"
      ]
     },
     "execution_count": 30,
     "metadata": {},
     "output_type": "execute_result"
    }
   ],
   "source": [
    "encode_payment_of_min_amount = OrdinalEncoder(categories=[['NM', 'No', 'Yes']])\n",
    "train.payment_of_min_amount = encode_payment_of_min_amount.fit_transform(train[['payment_of_min_amount']])\n",
    "train.payment_of_min_amount = train.payment_of_min_amount.astype(np.float64)\n",
    "train.payment_of_min_amount"
   ]
  },
  {
   "cell_type": "code",
   "execution_count": 31,
   "id": "a4bc2fa6",
   "metadata": {},
   "outputs": [
    {
     "data": {
      "text/plain": [
       "0        4.0\n",
       "2        2.0\n",
       "3        0.0\n",
       "4        1.0\n",
       "5        0.0\n",
       "        ... \n",
       "99995    3.0\n",
       "99996    1.0\n",
       "99997    3.0\n",
       "99998    5.0\n",
       "99999    0.0\n",
       "Name: payment_behaviour, Length: 99388, dtype: float64"
      ]
     },
     "execution_count": 31,
     "metadata": {},
     "output_type": "execute_result"
    }
   ],
   "source": [
    "encode_payment_behaviour = OrdinalEncoder(categories=[['Low_spent_Small_value_payments',\n",
    "                                                       'High_spent_Medium_value_payments',\n",
    "                                                       'Low_spent_Medium_value_payments',\n",
    "                                                       'High_spent_Large_value_payments',\n",
    "                                                       'High_spent_Small_value_payments',\n",
    "                                                       'Low_spent_Large_value_payments']])\n",
    "train.payment_behaviour = encode_payment_behaviour.fit_transform(train[['payment_behaviour']])\n",
    "train.payment_behaviour = train.payment_behaviour.astype(np.float64)\n",
    "train.payment_behaviour"
   ]
  },
  {
   "cell_type": "code",
   "execution_count": 32,
   "id": "3724fd2b",
   "metadata": {},
   "outputs": [],
   "source": [
    "train.credit_mix = train.credit_mix.astype(np.float64)\n",
    "train.payment_behaviour = train.payment_behaviour.astype(np.float64)\n",
    "train.payment_of_min_amount = train.payment_of_min_amount.astype(np.float64)"
   ]
  },
  {
   "cell_type": "code",
   "execution_count": 33,
   "id": "6c0a8e34",
   "metadata": {},
   "outputs": [
    {
     "data": {
      "text/plain": [
       "array(['Scientist', 'Lawyer', 'Teacher', 'Engineer', 'Entrepreneur',\n",
       "       'Developer', 'Media_Manager', 'Doctor', 'Journalist', 'Manager',\n",
       "       'Accountant', 'Musician', 'Mechanic', 'Writer', 'Architect'],\n",
       "      dtype=object)"
      ]
     },
     "execution_count": 33,
     "metadata": {},
     "output_type": "execute_result"
    }
   ],
   "source": [
    "train.occupation.unique()"
   ]
  },
  {
   "cell_type": "code",
   "execution_count": 34,
   "id": "3e70d2bb",
   "metadata": {},
   "outputs": [
    {
     "data": {
      "text/html": [
       "<div>\n",
       "<style scoped>\n",
       "    .dataframe tbody tr th:only-of-type {\n",
       "        vertical-align: middle;\n",
       "    }\n",
       "\n",
       "    .dataframe tbody tr th {\n",
       "        vertical-align: top;\n",
       "    }\n",
       "\n",
       "    .dataframe thead th {\n",
       "        text-align: right;\n",
       "    }\n",
       "</style>\n",
       "<table border=\"1\" class=\"dataframe\">\n",
       "  <thead>\n",
       "    <tr style=\"text-align: right;\">\n",
       "      <th></th>\n",
       "      <th>id</th>\n",
       "      <th>customer_id</th>\n",
       "      <th>month</th>\n",
       "      <th>name</th>\n",
       "      <th>age</th>\n",
       "      <th>ssn</th>\n",
       "      <th>occupation</th>\n",
       "      <th>annual_income</th>\n",
       "      <th>monthly_inhand_salary</th>\n",
       "      <th>num_bank_accounts</th>\n",
       "      <th>...</th>\n",
       "      <th>Entrepreneur</th>\n",
       "      <th>Journalist</th>\n",
       "      <th>Lawyer</th>\n",
       "      <th>Manager</th>\n",
       "      <th>Mechanic</th>\n",
       "      <th>Media_Manager</th>\n",
       "      <th>Musician</th>\n",
       "      <th>Scientist</th>\n",
       "      <th>Teacher</th>\n",
       "      <th>Writer</th>\n",
       "    </tr>\n",
       "  </thead>\n",
       "  <tbody>\n",
       "    <tr>\n",
       "      <th>0</th>\n",
       "      <td>5634</td>\n",
       "      <td>3392</td>\n",
       "      <td>1</td>\n",
       "      <td>Aaron Maashoh</td>\n",
       "      <td>23</td>\n",
       "      <td>821000265.0</td>\n",
       "      <td>Scientist</td>\n",
       "      <td>19114.12</td>\n",
       "      <td>1824.843333</td>\n",
       "      <td>3</td>\n",
       "      <td>...</td>\n",
       "      <td>0</td>\n",
       "      <td>0</td>\n",
       "      <td>0</td>\n",
       "      <td>0</td>\n",
       "      <td>0</td>\n",
       "      <td>0</td>\n",
       "      <td>0</td>\n",
       "      <td>1</td>\n",
       "      <td>0</td>\n",
       "      <td>0</td>\n",
       "    </tr>\n",
       "    <tr>\n",
       "      <th>2</th>\n",
       "      <td>5636</td>\n",
       "      <td>3392</td>\n",
       "      <td>3</td>\n",
       "      <td>Aaron Maashoh</td>\n",
       "      <td>500</td>\n",
       "      <td>821000265.0</td>\n",
       "      <td>Scientist</td>\n",
       "      <td>19114.12</td>\n",
       "      <td>4184.712202</td>\n",
       "      <td>3</td>\n",
       "      <td>...</td>\n",
       "      <td>0</td>\n",
       "      <td>0</td>\n",
       "      <td>0</td>\n",
       "      <td>0</td>\n",
       "      <td>0</td>\n",
       "      <td>0</td>\n",
       "      <td>0</td>\n",
       "      <td>1</td>\n",
       "      <td>0</td>\n",
       "      <td>0</td>\n",
       "    </tr>\n",
       "    <tr>\n",
       "      <th>3</th>\n",
       "      <td>5637</td>\n",
       "      <td>3392</td>\n",
       "      <td>4</td>\n",
       "      <td>Aaron Maashoh</td>\n",
       "      <td>23</td>\n",
       "      <td>821000265.0</td>\n",
       "      <td>Scientist</td>\n",
       "      <td>19114.12</td>\n",
       "      <td>4184.712202</td>\n",
       "      <td>3</td>\n",
       "      <td>...</td>\n",
       "      <td>0</td>\n",
       "      <td>0</td>\n",
       "      <td>0</td>\n",
       "      <td>0</td>\n",
       "      <td>0</td>\n",
       "      <td>0</td>\n",
       "      <td>0</td>\n",
       "      <td>1</td>\n",
       "      <td>0</td>\n",
       "      <td>0</td>\n",
       "    </tr>\n",
       "    <tr>\n",
       "      <th>4</th>\n",
       "      <td>5638</td>\n",
       "      <td>3392</td>\n",
       "      <td>5</td>\n",
       "      <td>Aaron Maashoh</td>\n",
       "      <td>23</td>\n",
       "      <td>821000265.0</td>\n",
       "      <td>Scientist</td>\n",
       "      <td>19114.12</td>\n",
       "      <td>1824.843333</td>\n",
       "      <td>3</td>\n",
       "      <td>...</td>\n",
       "      <td>0</td>\n",
       "      <td>0</td>\n",
       "      <td>0</td>\n",
       "      <td>0</td>\n",
       "      <td>0</td>\n",
       "      <td>0</td>\n",
       "      <td>0</td>\n",
       "      <td>1</td>\n",
       "      <td>0</td>\n",
       "      <td>0</td>\n",
       "    </tr>\n",
       "    <tr>\n",
       "      <th>5</th>\n",
       "      <td>5639</td>\n",
       "      <td>3392</td>\n",
       "      <td>6</td>\n",
       "      <td>Aaron Maashoh</td>\n",
       "      <td>23</td>\n",
       "      <td>821000265.0</td>\n",
       "      <td>Scientist</td>\n",
       "      <td>19114.12</td>\n",
       "      <td>4184.712202</td>\n",
       "      <td>3</td>\n",
       "      <td>...</td>\n",
       "      <td>0</td>\n",
       "      <td>0</td>\n",
       "      <td>0</td>\n",
       "      <td>0</td>\n",
       "      <td>0</td>\n",
       "      <td>0</td>\n",
       "      <td>0</td>\n",
       "      <td>1</td>\n",
       "      <td>0</td>\n",
       "      <td>0</td>\n",
       "    </tr>\n",
       "  </tbody>\n",
       "</table>\n",
       "<p>5 rows × 42 columns</p>\n",
       "</div>"
      ],
      "text/plain": [
       "     id  customer_id  month           name  age          ssn occupation  \\\n",
       "0  5634         3392      1  Aaron Maashoh   23  821000265.0  Scientist   \n",
       "2  5636         3392      3  Aaron Maashoh  500  821000265.0  Scientist   \n",
       "3  5637         3392      4  Aaron Maashoh   23  821000265.0  Scientist   \n",
       "4  5638         3392      5  Aaron Maashoh   23  821000265.0  Scientist   \n",
       "5  5639         3392      6  Aaron Maashoh   23  821000265.0  Scientist   \n",
       "\n",
       "   annual_income  monthly_inhand_salary  num_bank_accounts  ...  Entrepreneur  \\\n",
       "0       19114.12            1824.843333                  3  ...             0   \n",
       "2       19114.12            4184.712202                  3  ...             0   \n",
       "3       19114.12            4184.712202                  3  ...             0   \n",
       "4       19114.12            1824.843333                  3  ...             0   \n",
       "5       19114.12            4184.712202                  3  ...             0   \n",
       "\n",
       "   Journalist  Lawyer Manager  Mechanic  Media_Manager  Musician  Scientist  \\\n",
       "0           0       0       0         0              0         0          1   \n",
       "2           0       0       0         0              0         0          1   \n",
       "3           0       0       0         0              0         0          1   \n",
       "4           0       0       0         0              0         0          1   \n",
       "5           0       0       0         0              0         0          1   \n",
       "\n",
       "   Teacher  Writer  \n",
       "0        0       0  \n",
       "2        0       0  \n",
       "3        0       0  \n",
       "4        0       0  \n",
       "5        0       0  \n",
       "\n",
       "[5 rows x 42 columns]"
      ]
     },
     "execution_count": 34,
     "metadata": {},
     "output_type": "execute_result"
    }
   ],
   "source": [
    "encode_occupation = pd.get_dummies(train.occupation, drop_first=True, sparse=False, dtype=np.int64)\n",
    "train = pd.concat([train, encode_occupation], axis=1)\n",
    "train.head()"
   ]
  },
  {
   "cell_type": "code",
   "execution_count": 35,
   "id": "36e51823",
   "metadata": {},
   "outputs": [
    {
     "name": "stdout",
     "output_type": "stream",
     "text": [
      "<class 'pandas.core.frame.DataFrame'>\n",
      "Int64Index: 99388 entries, 0 to 99999\n",
      "Data columns (total 42 columns):\n",
      " #   Column                    Non-Null Count  Dtype  \n",
      "---  ------                    --------------  -----  \n",
      " 0   id                        99388 non-null  int64  \n",
      " 1   customer_id               99388 non-null  int64  \n",
      " 2   month                     99388 non-null  int64  \n",
      " 3   name                      99388 non-null  object \n",
      " 4   age                       99388 non-null  int64  \n",
      " 5   ssn                       99388 non-null  float64\n",
      " 6   occupation                99388 non-null  object \n",
      " 7   annual_income             99388 non-null  float64\n",
      " 8   monthly_inhand_salary     99388 non-null  float64\n",
      " 9   num_bank_accounts         99388 non-null  int64  \n",
      " 10  num_credit_card           99388 non-null  int64  \n",
      " 11  interest_rate             99388 non-null  int64  \n",
      " 12  num_of_loan               99388 non-null  int64  \n",
      " 13  type_of_loan              99388 non-null  object \n",
      " 14  delay_from_due_date       99388 non-null  int64  \n",
      " 15  num_of_delayed_payment    99388 non-null  int64  \n",
      " 16  changed_credit_limit      99388 non-null  float64\n",
      " 17  num_credit_inquiries      99388 non-null  float64\n",
      " 18  credit_mix                99388 non-null  float64\n",
      " 19  outstanding_debt          99388 non-null  float64\n",
      " 20  credit_utilization_ratio  99388 non-null  float64\n",
      " 21  credit_history_age        99388 non-null  float64\n",
      " 22  payment_of_min_amount     99388 non-null  float64\n",
      " 23  total_emi_per_month       99388 non-null  float64\n",
      " 24  amount_invested_monthly   99388 non-null  float64\n",
      " 25  payment_behaviour         99388 non-null  float64\n",
      " 26  monthly_balance           99388 non-null  float64\n",
      " 27  credit_score              99388 non-null  object \n",
      " 28  Architect                 99388 non-null  int64  \n",
      " 29  Developer                 99388 non-null  int64  \n",
      " 30  Doctor                    99388 non-null  int64  \n",
      " 31  Engineer                  99388 non-null  int64  \n",
      " 32  Entrepreneur              99388 non-null  int64  \n",
      " 33  Journalist                99388 non-null  int64  \n",
      " 34  Lawyer                    99388 non-null  int64  \n",
      " 35  Manager                   99388 non-null  int64  \n",
      " 36  Mechanic                  99388 non-null  int64  \n",
      " 37  Media_Manager             99388 non-null  int64  \n",
      " 38  Musician                  99388 non-null  int64  \n",
      " 39  Scientist                 99388 non-null  int64  \n",
      " 40  Teacher                   99388 non-null  int64  \n",
      " 41  Writer                    99388 non-null  int64  \n",
      "dtypes: float64(14), int64(24), object(4)\n",
      "memory usage: 32.6+ MB\n"
     ]
    }
   ],
   "source": [
    "train.info()"
   ]
  },
  {
   "cell_type": "markdown",
   "id": "96dd8d33",
   "metadata": {},
   "source": [
    "#### Dropping Object Type Features"
   ]
  },
  {
   "cell_type": "code",
   "execution_count": 36,
   "id": "e31b5913",
   "metadata": {},
   "outputs": [],
   "source": [
    "train.drop('occupation', axis=1, inplace=True)"
   ]
  },
  {
   "cell_type": "code",
   "execution_count": 37,
   "id": "a15163dd",
   "metadata": {},
   "outputs": [],
   "source": [
    "train.drop('name', axis=1, inplace=True)"
   ]
  },
  {
   "cell_type": "code",
   "execution_count": 38,
   "id": "02c1a0bc",
   "metadata": {},
   "outputs": [],
   "source": [
    "counts = train.type_of_loan.value_counts()"
   ]
  },
  {
   "cell_type": "code",
   "execution_count": 39,
   "id": "21ab603e",
   "metadata": {},
   "outputs": [
    {
     "data": {
      "text/html": [
       "<div>\n",
       "<style scoped>\n",
       "    .dataframe tbody tr th:only-of-type {\n",
       "        vertical-align: middle;\n",
       "    }\n",
       "\n",
       "    .dataframe tbody tr th {\n",
       "        vertical-align: top;\n",
       "    }\n",
       "\n",
       "    .dataframe thead th {\n",
       "        text-align: right;\n",
       "    }\n",
       "</style>\n",
       "<table border=\"1\" class=\"dataframe\">\n",
       "  <thead>\n",
       "    <tr style=\"text-align: right;\">\n",
       "      <th></th>\n",
       "      <th>auto loan</th>\n",
       "      <th>credit-builder loan</th>\n",
       "      <th>debt consolidation loan</th>\n",
       "      <th>home equity loan</th>\n",
       "      <th>loan_type</th>\n",
       "      <th>mortgage loan</th>\n",
       "      <th>not specified</th>\n",
       "      <th>payday loan</th>\n",
       "      <th>personal loan</th>\n",
       "      <th>student loan</th>\n",
       "    </tr>\n",
       "  </thead>\n",
       "  <tbody>\n",
       "    <tr>\n",
       "      <th>0</th>\n",
       "      <td>0</td>\n",
       "      <td>0</td>\n",
       "      <td>0</td>\n",
       "      <td>0</td>\n",
       "      <td>1</td>\n",
       "      <td>0</td>\n",
       "      <td>0</td>\n",
       "      <td>0</td>\n",
       "      <td>0</td>\n",
       "      <td>0</td>\n",
       "    </tr>\n",
       "    <tr>\n",
       "      <th>2</th>\n",
       "      <td>0</td>\n",
       "      <td>0</td>\n",
       "      <td>0</td>\n",
       "      <td>0</td>\n",
       "      <td>1</td>\n",
       "      <td>0</td>\n",
       "      <td>0</td>\n",
       "      <td>0</td>\n",
       "      <td>0</td>\n",
       "      <td>0</td>\n",
       "    </tr>\n",
       "    <tr>\n",
       "      <th>3</th>\n",
       "      <td>0</td>\n",
       "      <td>0</td>\n",
       "      <td>0</td>\n",
       "      <td>0</td>\n",
       "      <td>1</td>\n",
       "      <td>0</td>\n",
       "      <td>0</td>\n",
       "      <td>0</td>\n",
       "      <td>0</td>\n",
       "      <td>0</td>\n",
       "    </tr>\n",
       "    <tr>\n",
       "      <th>4</th>\n",
       "      <td>0</td>\n",
       "      <td>0</td>\n",
       "      <td>0</td>\n",
       "      <td>0</td>\n",
       "      <td>1</td>\n",
       "      <td>0</td>\n",
       "      <td>0</td>\n",
       "      <td>0</td>\n",
       "      <td>0</td>\n",
       "      <td>0</td>\n",
       "    </tr>\n",
       "    <tr>\n",
       "      <th>5</th>\n",
       "      <td>0</td>\n",
       "      <td>0</td>\n",
       "      <td>0</td>\n",
       "      <td>0</td>\n",
       "      <td>1</td>\n",
       "      <td>0</td>\n",
       "      <td>0</td>\n",
       "      <td>0</td>\n",
       "      <td>0</td>\n",
       "      <td>0</td>\n",
       "    </tr>\n",
       "    <tr>\n",
       "      <th>...</th>\n",
       "      <td>...</td>\n",
       "      <td>...</td>\n",
       "      <td>...</td>\n",
       "      <td>...</td>\n",
       "      <td>...</td>\n",
       "      <td>...</td>\n",
       "      <td>...</td>\n",
       "      <td>...</td>\n",
       "      <td>...</td>\n",
       "      <td>...</td>\n",
       "    </tr>\n",
       "    <tr>\n",
       "      <th>99995</th>\n",
       "      <td>0</td>\n",
       "      <td>0</td>\n",
       "      <td>0</td>\n",
       "      <td>0</td>\n",
       "      <td>1</td>\n",
       "      <td>0</td>\n",
       "      <td>0</td>\n",
       "      <td>0</td>\n",
       "      <td>0</td>\n",
       "      <td>0</td>\n",
       "    </tr>\n",
       "    <tr>\n",
       "      <th>99996</th>\n",
       "      <td>0</td>\n",
       "      <td>0</td>\n",
       "      <td>0</td>\n",
       "      <td>0</td>\n",
       "      <td>1</td>\n",
       "      <td>0</td>\n",
       "      <td>0</td>\n",
       "      <td>0</td>\n",
       "      <td>0</td>\n",
       "      <td>0</td>\n",
       "    </tr>\n",
       "    <tr>\n",
       "      <th>99997</th>\n",
       "      <td>0</td>\n",
       "      <td>0</td>\n",
       "      <td>0</td>\n",
       "      <td>0</td>\n",
       "      <td>1</td>\n",
       "      <td>0</td>\n",
       "      <td>0</td>\n",
       "      <td>0</td>\n",
       "      <td>0</td>\n",
       "      <td>0</td>\n",
       "    </tr>\n",
       "    <tr>\n",
       "      <th>99998</th>\n",
       "      <td>0</td>\n",
       "      <td>0</td>\n",
       "      <td>0</td>\n",
       "      <td>0</td>\n",
       "      <td>1</td>\n",
       "      <td>0</td>\n",
       "      <td>0</td>\n",
       "      <td>0</td>\n",
       "      <td>0</td>\n",
       "      <td>0</td>\n",
       "    </tr>\n",
       "    <tr>\n",
       "      <th>99999</th>\n",
       "      <td>0</td>\n",
       "      <td>0</td>\n",
       "      <td>0</td>\n",
       "      <td>0</td>\n",
       "      <td>1</td>\n",
       "      <td>0</td>\n",
       "      <td>0</td>\n",
       "      <td>0</td>\n",
       "      <td>0</td>\n",
       "      <td>0</td>\n",
       "    </tr>\n",
       "  </tbody>\n",
       "</table>\n",
       "<p>99388 rows × 10 columns</p>\n",
       "</div>"
      ],
      "text/plain": [
       "       auto loan  credit-builder loan  debt consolidation loan  \\\n",
       "0              0                    0                        0   \n",
       "2              0                    0                        0   \n",
       "3              0                    0                        0   \n",
       "4              0                    0                        0   \n",
       "5              0                    0                        0   \n",
       "...          ...                  ...                      ...   \n",
       "99995          0                    0                        0   \n",
       "99996          0                    0                        0   \n",
       "99997          0                    0                        0   \n",
       "99998          0                    0                        0   \n",
       "99999          0                    0                        0   \n",
       "\n",
       "       home equity loan  loan_type  mortgage loan  not specified  payday loan  \\\n",
       "0                     0          1              0              0            0   \n",
       "2                     0          1              0              0            0   \n",
       "3                     0          1              0              0            0   \n",
       "4                     0          1              0              0            0   \n",
       "5                     0          1              0              0            0   \n",
       "...                 ...        ...            ...            ...          ...   \n",
       "99995                 0          1              0              0            0   \n",
       "99996                 0          1              0              0            0   \n",
       "99997                 0          1              0              0            0   \n",
       "99998                 0          1              0              0            0   \n",
       "99999                 0          1              0              0            0   \n",
       "\n",
       "       personal loan  student loan  \n",
       "0                  0             0  \n",
       "2                  0             0  \n",
       "3                  0             0  \n",
       "4                  0             0  \n",
       "5                  0             0  \n",
       "...              ...           ...  \n",
       "99995              0             0  \n",
       "99996              0             0  \n",
       "99997              0             0  \n",
       "99998              0             0  \n",
       "99999              0             0  \n",
       "\n",
       "[99388 rows x 10 columns]"
      ]
     },
     "execution_count": 39,
     "metadata": {},
     "output_type": "execute_result"
    }
   ],
   "source": [
    "threshold = 1000\n",
    "remaining_categories = counts[counts <= threshold].index\n",
    "loan_type_encoded = pd.get_dummies(train.type_of_loan.replace(remaining_categories, 'loan_type'), dtype=np.int64)\n",
    "loan_type_encoded"
   ]
  },
  {
   "cell_type": "code",
   "execution_count": 40,
   "id": "fce6668c",
   "metadata": {},
   "outputs": [
    {
     "data": {
      "text/html": [
       "<div>\n",
       "<style scoped>\n",
       "    .dataframe tbody tr th:only-of-type {\n",
       "        vertical-align: middle;\n",
       "    }\n",
       "\n",
       "    .dataframe tbody tr th {\n",
       "        vertical-align: top;\n",
       "    }\n",
       "\n",
       "    .dataframe thead th {\n",
       "        text-align: right;\n",
       "    }\n",
       "</style>\n",
       "<table border=\"1\" class=\"dataframe\">\n",
       "  <thead>\n",
       "    <tr style=\"text-align: right;\">\n",
       "      <th></th>\n",
       "      <th>id</th>\n",
       "      <th>customer_id</th>\n",
       "      <th>month</th>\n",
       "      <th>age</th>\n",
       "      <th>ssn</th>\n",
       "      <th>annual_income</th>\n",
       "      <th>monthly_inhand_salary</th>\n",
       "      <th>num_bank_accounts</th>\n",
       "      <th>num_credit_card</th>\n",
       "      <th>interest_rate</th>\n",
       "      <th>...</th>\n",
       "      <th>auto loan</th>\n",
       "      <th>credit-builder loan</th>\n",
       "      <th>debt consolidation loan</th>\n",
       "      <th>home equity loan</th>\n",
       "      <th>loan_type</th>\n",
       "      <th>mortgage loan</th>\n",
       "      <th>not specified</th>\n",
       "      <th>payday loan</th>\n",
       "      <th>personal loan</th>\n",
       "      <th>student loan</th>\n",
       "    </tr>\n",
       "  </thead>\n",
       "  <tbody>\n",
       "    <tr>\n",
       "      <th>0</th>\n",
       "      <td>5634</td>\n",
       "      <td>3392</td>\n",
       "      <td>1</td>\n",
       "      <td>23</td>\n",
       "      <td>821000265.0</td>\n",
       "      <td>19114.12</td>\n",
       "      <td>1824.843333</td>\n",
       "      <td>3</td>\n",
       "      <td>4</td>\n",
       "      <td>3</td>\n",
       "      <td>...</td>\n",
       "      <td>0</td>\n",
       "      <td>0</td>\n",
       "      <td>0</td>\n",
       "      <td>0</td>\n",
       "      <td>1</td>\n",
       "      <td>0</td>\n",
       "      <td>0</td>\n",
       "      <td>0</td>\n",
       "      <td>0</td>\n",
       "      <td>0</td>\n",
       "    </tr>\n",
       "    <tr>\n",
       "      <th>2</th>\n",
       "      <td>5636</td>\n",
       "      <td>3392</td>\n",
       "      <td>3</td>\n",
       "      <td>500</td>\n",
       "      <td>821000265.0</td>\n",
       "      <td>19114.12</td>\n",
       "      <td>4184.712202</td>\n",
       "      <td>3</td>\n",
       "      <td>4</td>\n",
       "      <td>3</td>\n",
       "      <td>...</td>\n",
       "      <td>0</td>\n",
       "      <td>0</td>\n",
       "      <td>0</td>\n",
       "      <td>0</td>\n",
       "      <td>1</td>\n",
       "      <td>0</td>\n",
       "      <td>0</td>\n",
       "      <td>0</td>\n",
       "      <td>0</td>\n",
       "      <td>0</td>\n",
       "    </tr>\n",
       "    <tr>\n",
       "      <th>3</th>\n",
       "      <td>5637</td>\n",
       "      <td>3392</td>\n",
       "      <td>4</td>\n",
       "      <td>23</td>\n",
       "      <td>821000265.0</td>\n",
       "      <td>19114.12</td>\n",
       "      <td>4184.712202</td>\n",
       "      <td>3</td>\n",
       "      <td>4</td>\n",
       "      <td>3</td>\n",
       "      <td>...</td>\n",
       "      <td>0</td>\n",
       "      <td>0</td>\n",
       "      <td>0</td>\n",
       "      <td>0</td>\n",
       "      <td>1</td>\n",
       "      <td>0</td>\n",
       "      <td>0</td>\n",
       "      <td>0</td>\n",
       "      <td>0</td>\n",
       "      <td>0</td>\n",
       "    </tr>\n",
       "    <tr>\n",
       "      <th>4</th>\n",
       "      <td>5638</td>\n",
       "      <td>3392</td>\n",
       "      <td>5</td>\n",
       "      <td>23</td>\n",
       "      <td>821000265.0</td>\n",
       "      <td>19114.12</td>\n",
       "      <td>1824.843333</td>\n",
       "      <td>3</td>\n",
       "      <td>4</td>\n",
       "      <td>3</td>\n",
       "      <td>...</td>\n",
       "      <td>0</td>\n",
       "      <td>0</td>\n",
       "      <td>0</td>\n",
       "      <td>0</td>\n",
       "      <td>1</td>\n",
       "      <td>0</td>\n",
       "      <td>0</td>\n",
       "      <td>0</td>\n",
       "      <td>0</td>\n",
       "      <td>0</td>\n",
       "    </tr>\n",
       "    <tr>\n",
       "      <th>5</th>\n",
       "      <td>5639</td>\n",
       "      <td>3392</td>\n",
       "      <td>6</td>\n",
       "      <td>23</td>\n",
       "      <td>821000265.0</td>\n",
       "      <td>19114.12</td>\n",
       "      <td>4184.712202</td>\n",
       "      <td>3</td>\n",
       "      <td>4</td>\n",
       "      <td>3</td>\n",
       "      <td>...</td>\n",
       "      <td>0</td>\n",
       "      <td>0</td>\n",
       "      <td>0</td>\n",
       "      <td>0</td>\n",
       "      <td>1</td>\n",
       "      <td>0</td>\n",
       "      <td>0</td>\n",
       "      <td>0</td>\n",
       "      <td>0</td>\n",
       "      <td>0</td>\n",
       "    </tr>\n",
       "  </tbody>\n",
       "</table>\n",
       "<p>5 rows × 50 columns</p>\n",
       "</div>"
      ],
      "text/plain": [
       "     id  customer_id  month  age          ssn  annual_income  \\\n",
       "0  5634         3392      1   23  821000265.0       19114.12   \n",
       "2  5636         3392      3  500  821000265.0       19114.12   \n",
       "3  5637         3392      4   23  821000265.0       19114.12   \n",
       "4  5638         3392      5   23  821000265.0       19114.12   \n",
       "5  5639         3392      6   23  821000265.0       19114.12   \n",
       "\n",
       "   monthly_inhand_salary  num_bank_accounts  num_credit_card  interest_rate  \\\n",
       "0            1824.843333                  3                4              3   \n",
       "2            4184.712202                  3                4              3   \n",
       "3            4184.712202                  3                4              3   \n",
       "4            1824.843333                  3                4              3   \n",
       "5            4184.712202                  3                4              3   \n",
       "\n",
       "   ...  auto loan credit-builder loan  debt consolidation loan  \\\n",
       "0  ...          0                   0                        0   \n",
       "2  ...          0                   0                        0   \n",
       "3  ...          0                   0                        0   \n",
       "4  ...          0                   0                        0   \n",
       "5  ...          0                   0                        0   \n",
       "\n",
       "   home equity loan  loan_type  mortgage loan  not specified  payday loan  \\\n",
       "0                 0          1              0              0            0   \n",
       "2                 0          1              0              0            0   \n",
       "3                 0          1              0              0            0   \n",
       "4                 0          1              0              0            0   \n",
       "5                 0          1              0              0            0   \n",
       "\n",
       "   personal loan  student loan  \n",
       "0              0             0  \n",
       "2              0             0  \n",
       "3              0             0  \n",
       "4              0             0  \n",
       "5              0             0  \n",
       "\n",
       "[5 rows x 50 columns]"
      ]
     },
     "execution_count": 40,
     "metadata": {},
     "output_type": "execute_result"
    }
   ],
   "source": [
    "train = pd.concat([train, loan_type_encoded], axis=1)\n",
    "train.head()"
   ]
  },
  {
   "cell_type": "code",
   "execution_count": 41,
   "id": "35855da4",
   "metadata": {},
   "outputs": [],
   "source": [
    "train.drop('type_of_loan', axis=1, inplace=True)"
   ]
  },
  {
   "cell_type": "markdown",
   "id": "97caa8ec",
   "metadata": {},
   "source": [
    "### Feature Splitting"
   ]
  },
  {
   "cell_type": "code",
   "execution_count": 42,
   "id": "bc141c78",
   "metadata": {},
   "outputs": [],
   "source": [
    "X = train.drop('credit_score', axis=1)\n",
    "y = train.credit_score"
   ]
  },
  {
   "cell_type": "markdown",
   "id": "53b2a048",
   "metadata": {},
   "source": [
    "#### Balancing out the imbalanced classes using the SMOTE technique"
   ]
  },
  {
   "cell_type": "code",
   "execution_count": 43,
   "id": "849fd119",
   "metadata": {},
   "outputs": [],
   "source": [
    "from imblearn.over_sampling import SMOTE"
   ]
  },
  {
   "cell_type": "code",
   "execution_count": 44,
   "id": "da935152",
   "metadata": {},
   "outputs": [],
   "source": [
    "smote = SMOTE()\n",
    "X, y = smote.fit_resample(X,y)"
   ]
  },
  {
   "cell_type": "code",
   "execution_count": 45,
   "id": "fcad16d1",
   "metadata": {},
   "outputs": [
    {
     "data": {
      "text/plain": [
       "Good        52955\n",
       "Standard    52955\n",
       "Poor        52955\n",
       "Name: credit_score, dtype: int64"
      ]
     },
     "execution_count": 45,
     "metadata": {},
     "output_type": "execute_result"
    }
   ],
   "source": [
    "y.value_counts()"
   ]
  },
  {
   "cell_type": "markdown",
   "id": "096ec57f",
   "metadata": {},
   "source": [
    "### Creating Test and Train Data"
   ]
  },
  {
   "cell_type": "code",
   "execution_count": 46,
   "id": "630eab6e",
   "metadata": {},
   "outputs": [],
   "source": [
    "def train_test_split(X, y, test_size=0.2, random_state=None):\n",
    "    ixs = np.arange(X.shape[0])\n",
    "    \n",
    "    if random_state:\n",
    "        np.random.seed(random_state)\n",
    "    np.random.shuffle(ixs)\n",
    "    \n",
    "    t_size = int(X.shape[0]*test_size)\n",
    "    test_ixs = ixs[:t_size]\n",
    "    train_ixs = ixs[t_size:]\n",
    "    X_train = X.iloc[train_ixs]\n",
    "    X_test = X.iloc[test_ixs]\n",
    "    y_train = y.iloc[train_ixs]\n",
    "    y_test = y.iloc[test_ixs]\n",
    "    return X_train, X_test, y_train, y_test"
   ]
  },
  {
   "cell_type": "code",
   "execution_count": 47,
   "id": "15796363",
   "metadata": {},
   "outputs": [],
   "source": [
    "X_train, X_test, y_train, y_test = train_test_split(X, y, test_size=0.2, random_state=101)"
   ]
  },
  {
   "cell_type": "code",
   "execution_count": 48,
   "id": "720e687a",
   "metadata": {},
   "outputs": [
    {
     "data": {
      "text/plain": [
       "(127092, 48)"
      ]
     },
     "execution_count": 48,
     "metadata": {},
     "output_type": "execute_result"
    }
   ],
   "source": [
    "X_train.shape"
   ]
  },
  {
   "cell_type": "code",
   "execution_count": 49,
   "id": "d445b958",
   "metadata": {},
   "outputs": [
    {
     "data": {
      "text/plain": [
       "(127092,)"
      ]
     },
     "execution_count": 49,
     "metadata": {},
     "output_type": "execute_result"
    }
   ],
   "source": [
    "y_train.shape"
   ]
  },
  {
   "cell_type": "code",
   "execution_count": 50,
   "id": "fa3ffabd",
   "metadata": {},
   "outputs": [
    {
     "data": {
      "text/plain": [
       "(31773, 48)"
      ]
     },
     "execution_count": 50,
     "metadata": {},
     "output_type": "execute_result"
    }
   ],
   "source": [
    "X_test.shape"
   ]
  },
  {
   "cell_type": "code",
   "execution_count": 51,
   "id": "a81289dc",
   "metadata": {},
   "outputs": [
    {
     "data": {
      "text/plain": [
       "(31773,)"
      ]
     },
     "execution_count": 51,
     "metadata": {},
     "output_type": "execute_result"
    }
   ],
   "source": [
    "y_test.shape"
   ]
  },
  {
   "cell_type": "markdown",
   "id": "6aa258ec",
   "metadata": {},
   "source": [
    "### Feature Selection"
   ]
  },
  {
   "cell_type": "code",
   "execution_count": 52,
   "id": "55e3765a",
   "metadata": {},
   "outputs": [],
   "source": [
    "from sklearn.feature_selection import SelectKBest, SelectPercentile, SelectFromModel, f_classif\n",
    "from sklearn.ensemble import RandomForestClassifier"
   ]
  },
  {
   "cell_type": "code",
   "execution_count": 53,
   "id": "56d5b301",
   "metadata": {},
   "outputs": [
    {
     "data": {
      "text/plain": [
       "SelectKBest(k=12)"
      ]
     },
     "execution_count": 53,
     "metadata": {},
     "output_type": "execute_result"
    }
   ],
   "source": [
    "skbest = SelectKBest(k=12, score_func=f_classif)\n",
    "skbest.fit(X_train, y_train)"
   ]
  },
  {
   "cell_type": "code",
   "execution_count": 54,
   "id": "eec099d4",
   "metadata": {},
   "outputs": [
    {
     "data": {
      "text/plain": [
       "array(['monthly_inhand_salary', 'delay_from_due_date',\n",
       "       'changed_credit_limit', 'credit_mix', 'outstanding_debt',\n",
       "       'credit_utilization_ratio', 'credit_history_age',\n",
       "       'payment_of_min_amount', 'payment_behaviour', 'Lawyer',\n",
       "       'loan_type', 'not specified'], dtype=object)"
      ]
     },
     "execution_count": 54,
     "metadata": {},
     "output_type": "execute_result"
    }
   ],
   "source": [
    "select_features = skbest.get_feature_names_out()\n",
    "select_features"
   ]
  },
  {
   "cell_type": "code",
   "execution_count": 55,
   "id": "ae29409c",
   "metadata": {},
   "outputs": [
    {
     "data": {
      "text/plain": [
       "SelectPercentile(percentile=20)"
      ]
     },
     "execution_count": 55,
     "metadata": {},
     "output_type": "execute_result"
    }
   ],
   "source": [
    "percentile = SelectPercentile(percentile=20, score_func=f_classif)\n",
    "percentile.fit(X_train, y_train)"
   ]
  },
  {
   "cell_type": "code",
   "execution_count": 56,
   "id": "51648bc5",
   "metadata": {},
   "outputs": [
    {
     "data": {
      "text/plain": [
       "array(['monthly_inhand_salary', 'delay_from_due_date',\n",
       "       'changed_credit_limit', 'credit_mix', 'outstanding_debt',\n",
       "       'credit_history_age', 'payment_of_min_amount', 'payment_behaviour',\n",
       "       'loan_type', 'not specified'], dtype=object)"
      ]
     },
     "execution_count": 56,
     "metadata": {},
     "output_type": "execute_result"
    }
   ],
   "source": [
    "select_features = percentile.get_feature_names_out()\n",
    "select_features"
   ]
  },
  {
   "cell_type": "code",
   "execution_count": 57,
   "id": "b3cf72d4",
   "metadata": {},
   "outputs": [
    {
     "data": {
      "text/plain": [
       "SelectFromModel(estimator=RandomForestClassifier(), max_features=12,\n",
       "                threshold='1.25*mean')"
      ]
     },
     "execution_count": 57,
     "metadata": {},
     "output_type": "execute_result"
    }
   ],
   "source": [
    "select_from_model = SelectFromModel(estimator=RandomForestClassifier(), max_features=12, threshold='1.25*mean')\n",
    "select_from_model.fit(X_train, y_train)"
   ]
  },
  {
   "cell_type": "code",
   "execution_count": 58,
   "id": "50bce945",
   "metadata": {},
   "outputs": [
    {
     "data": {
      "text/plain": [
       "array(['id', 'num_bank_accounts', 'num_credit_card', 'interest_rate',\n",
       "       'delay_from_due_date', 'num_of_delayed_payment',\n",
       "       'changed_credit_limit', 'num_credit_inquiries', 'credit_mix',\n",
       "       'outstanding_debt', 'credit_history_age', 'payment_of_min_amount'],\n",
       "      dtype=object)"
      ]
     },
     "execution_count": 58,
     "metadata": {},
     "output_type": "execute_result"
    }
   ],
   "source": [
    "select_features = select_from_model.get_feature_names_out()\n",
    "select_features"
   ]
  },
  {
   "cell_type": "code",
   "execution_count": 59,
   "id": "ee772322",
   "metadata": {},
   "outputs": [],
   "source": [
    "selected_feature = ['annual_income','monthly_inhand_salary', \n",
    "                    'num_credit_card','interest_rate', 'delay_from_due_date',\n",
    "                    'num_of_delayed_payment', 'changed_credit_limit',\n",
    "                    'num_credit_inquiries', 'credit_mix', 'outstanding_debt',\n",
    "                    'credit_history_age','payment_of_min_amount', 'total_emi_per_month',\n",
    "                    'payment_behaviour', 'monthly_balance',\n",
    "                    'loan_type']\n",
    "\n",
    "X_train_tr = X_train[selected_feature]\n",
    "X_test_tr = X_test[selected_feature]"
   ]
  },
  {
   "cell_type": "markdown",
   "id": "c89eab09",
   "metadata": {},
   "source": [
    "#### Feature Scaling and Normalization"
   ]
  },
  {
   "cell_type": "code",
   "execution_count": 60,
   "id": "9415d30e",
   "metadata": {},
   "outputs": [
    {
     "data": {
      "text/html": [
       "<div>\n",
       "<style scoped>\n",
       "    .dataframe tbody tr th:only-of-type {\n",
       "        vertical-align: middle;\n",
       "    }\n",
       "\n",
       "    .dataframe tbody tr th {\n",
       "        vertical-align: top;\n",
       "    }\n",
       "\n",
       "    .dataframe thead th {\n",
       "        text-align: right;\n",
       "    }\n",
       "</style>\n",
       "<table border=\"1\" class=\"dataframe\">\n",
       "  <thead>\n",
       "    <tr style=\"text-align: right;\">\n",
       "      <th></th>\n",
       "      <th>annual_income</th>\n",
       "      <th>monthly_inhand_salary</th>\n",
       "      <th>num_credit_card</th>\n",
       "      <th>interest_rate</th>\n",
       "      <th>delay_from_due_date</th>\n",
       "      <th>num_of_delayed_payment</th>\n",
       "      <th>changed_credit_limit</th>\n",
       "      <th>num_credit_inquiries</th>\n",
       "      <th>credit_mix</th>\n",
       "      <th>outstanding_debt</th>\n",
       "      <th>credit_history_age</th>\n",
       "      <th>payment_of_min_amount</th>\n",
       "      <th>total_emi_per_month</th>\n",
       "      <th>payment_behaviour</th>\n",
       "      <th>monthly_balance</th>\n",
       "      <th>loan_type</th>\n",
       "    </tr>\n",
       "  </thead>\n",
       "  <tbody>\n",
       "    <tr>\n",
       "      <th>0</th>\n",
       "      <td>-0.108911</td>\n",
       "      <td>-0.926878</td>\n",
       "      <td>-0.139642</td>\n",
       "      <td>-0.144117</td>\n",
       "      <td>-0.348397</td>\n",
       "      <td>-0.058356</td>\n",
       "      <td>-0.130808</td>\n",
       "      <td>-0.144836</td>\n",
       "      <td>-0.199070</td>\n",
       "      <td>-0.908669</td>\n",
       "      <td>-0.264114</td>\n",
       "      <td>-0.511231</td>\n",
       "      <td>-0.167785</td>\n",
       "      <td>-1.140167</td>\n",
       "      <td>-0.114512</td>\n",
       "      <td>0.577265</td>\n",
       "    </tr>\n",
       "    <tr>\n",
       "      <th>1</th>\n",
       "      <td>-0.076296</td>\n",
       "      <td>0.237168</td>\n",
       "      <td>-0.097535</td>\n",
       "      <td>-0.093658</td>\n",
       "      <td>-0.013603</td>\n",
       "      <td>-0.037521</td>\n",
       "      <td>-0.254771</td>\n",
       "      <td>-0.093206</td>\n",
       "      <td>-1.097843</td>\n",
       "      <td>0.461526</td>\n",
       "      <td>-0.511635</td>\n",
       "      <td>1.005245</td>\n",
       "      <td>-0.164991</td>\n",
       "      <td>-0.901278</td>\n",
       "      <td>-0.114512</td>\n",
       "      <td>0.577265</td>\n",
       "    </tr>\n",
       "    <tr>\n",
       "      <th>2</th>\n",
       "      <td>-0.116562</td>\n",
       "      <td>-1.302672</td>\n",
       "      <td>1.233051</td>\n",
       "      <td>-0.121181</td>\n",
       "      <td>0.455109</td>\n",
       "      <td>-0.063564</td>\n",
       "      <td>0.890547</td>\n",
       "      <td>-0.075996</td>\n",
       "      <td>-0.199070</td>\n",
       "      <td>0.603054</td>\n",
       "      <td>-0.357783</td>\n",
       "      <td>1.005245</td>\n",
       "      <td>-0.170782</td>\n",
       "      <td>1.546418</td>\n",
       "      <td>-0.114512</td>\n",
       "      <td>0.577265</td>\n",
       "    </tr>\n",
       "    <tr>\n",
       "      <th>3</th>\n",
       "      <td>-0.110035</td>\n",
       "      <td>-0.998452</td>\n",
       "      <td>-0.131220</td>\n",
       "      <td>-0.144117</td>\n",
       "      <td>-0.884068</td>\n",
       "      <td>-0.042730</td>\n",
       "      <td>-1.033950</td>\n",
       "      <td>-0.133363</td>\n",
       "      <td>-0.199070</td>\n",
       "      <td>-1.052325</td>\n",
       "      <td>0.354059</td>\n",
       "      <td>-2.027707</td>\n",
       "      <td>-0.167221</td>\n",
       "      <td>-0.524740</td>\n",
       "      <td>-0.114512</td>\n",
       "      <td>0.577265</td>\n",
       "    </tr>\n",
       "    <tr>\n",
       "      <th>4</th>\n",
       "      <td>-0.042749</td>\n",
       "      <td>1.539292</td>\n",
       "      <td>-0.139642</td>\n",
       "      <td>-0.121181</td>\n",
       "      <td>0.053356</td>\n",
       "      <td>-0.068773</td>\n",
       "      <td>-0.028357</td>\n",
       "      <td>-0.104680</td>\n",
       "      <td>-0.199070</td>\n",
       "      <td>-0.083822</td>\n",
       "      <td>-1.074133</td>\n",
       "      <td>1.005245</td>\n",
       "      <td>-0.139830</td>\n",
       "      <td>-1.140167</td>\n",
       "      <td>-0.114512</td>\n",
       "      <td>0.577265</td>\n",
       "    </tr>\n",
       "  </tbody>\n",
       "</table>\n",
       "</div>"
      ],
      "text/plain": [
       "   annual_income  monthly_inhand_salary  num_credit_card  interest_rate  \\\n",
       "0      -0.108911              -0.926878        -0.139642      -0.144117   \n",
       "1      -0.076296               0.237168        -0.097535      -0.093658   \n",
       "2      -0.116562              -1.302672         1.233051      -0.121181   \n",
       "3      -0.110035              -0.998452        -0.131220      -0.144117   \n",
       "4      -0.042749               1.539292        -0.139642      -0.121181   \n",
       "\n",
       "   delay_from_due_date  num_of_delayed_payment  changed_credit_limit  \\\n",
       "0            -0.348397               -0.058356             -0.130808   \n",
       "1            -0.013603               -0.037521             -0.254771   \n",
       "2             0.455109               -0.063564              0.890547   \n",
       "3            -0.884068               -0.042730             -1.033950   \n",
       "4             0.053356               -0.068773             -0.028357   \n",
       "\n",
       "   num_credit_inquiries  credit_mix  outstanding_debt  credit_history_age  \\\n",
       "0             -0.144836   -0.199070         -0.908669           -0.264114   \n",
       "1             -0.093206   -1.097843          0.461526           -0.511635   \n",
       "2             -0.075996   -0.199070          0.603054           -0.357783   \n",
       "3             -0.133363   -0.199070         -1.052325            0.354059   \n",
       "4             -0.104680   -0.199070         -0.083822           -1.074133   \n",
       "\n",
       "   payment_of_min_amount  total_emi_per_month  payment_behaviour  \\\n",
       "0              -0.511231            -0.167785          -1.140167   \n",
       "1               1.005245            -0.164991          -0.901278   \n",
       "2               1.005245            -0.170782           1.546418   \n",
       "3              -2.027707            -0.167221          -0.524740   \n",
       "4               1.005245            -0.139830          -1.140167   \n",
       "\n",
       "   monthly_balance  loan_type  \n",
       "0        -0.114512   0.577265  \n",
       "1        -0.114512   0.577265  \n",
       "2        -0.114512   0.577265  \n",
       "3        -0.114512   0.577265  \n",
       "4        -0.114512   0.577265  "
      ]
     },
     "execution_count": 60,
     "metadata": {},
     "output_type": "execute_result"
    }
   ],
   "source": [
    "scale = StandardScaler()\n",
    "features = X_train_tr.columns\n",
    "\n",
    "X_train_tr = scale.fit_transform(X_train_tr)\n",
    "X_train_tr = pd.DataFrame(X_train_tr, columns=features)\n",
    "\n",
    "X_test_tr = scale.fit_transform(X_test_tr)\n",
    "X_test_tr = pd.DataFrame(X_test_tr, columns=features)\n",
    "\n",
    "X_train_tr.head()"
   ]
  },
  {
   "cell_type": "markdown",
   "id": "c4c42667",
   "metadata": {},
   "source": [
    "#### Target Label Encoding"
   ]
  },
  {
   "cell_type": "code",
   "execution_count": 61,
   "id": "715c04a9",
   "metadata": {},
   "outputs": [],
   "source": [
    "def get_integer_mapping(ctg):\n",
    "    \n",
    "    res = {}\n",
    "    for cl in ctg.classes_:\n",
    "        res.update({cl:ctg.transform([cl])[0]})\n",
    "    return res    "
   ]
  },
  {
   "cell_type": "code",
   "execution_count": 62,
   "id": "8202a460",
   "metadata": {},
   "outputs": [],
   "source": [
    "encode = LabelEncoder()\n",
    "y_train_tr = encode.fit_transform(y_train)\n",
    "y_test_tr = encode.fit_transform(y_test)"
   ]
  },
  {
   "cell_type": "code",
   "execution_count": 63,
   "id": "54dca121",
   "metadata": {},
   "outputs": [
    {
     "data": {
      "text/plain": [
       "{'Good': 0, 'Poor': 1, 'Standard': 2}"
      ]
     },
     "execution_count": 63,
     "metadata": {},
     "output_type": "execute_result"
    }
   ],
   "source": [
    "label = get_integer_mapping(encode)\n",
    "label"
   ]
  },
  {
   "cell_type": "markdown",
   "id": "cf2b0685",
   "metadata": {},
   "source": [
    "### Baseline Models Performance Comparison"
   ]
  },
  {
   "cell_type": "code",
   "execution_count": 64,
   "id": "990eb0a8",
   "metadata": {},
   "outputs": [],
   "source": [
    "from sklearn.metrics import precision_score, recall_score, f1_score, classification_report, ConfusionMatrixDisplay\n",
    "from sklearn.metrics import accuracy_score\n",
    "from sklearn.ensemble import RandomForestClassifier, RandomForestRegressor, ExtraTreesClassifier, HistGradientBoostingClassifier\n",
    "from sklearn.ensemble import VotingClassifier\n",
    "from sklearn.neighbors import KNeighborsClassifier\n",
    "from sklearn.linear_model import LogisticRegression\n",
    "import tensorflow as tf\n",
    "from sklearn.tree import DecisionTreeClassifier\n",
    "from sklearn.ensemble import GradientBoostingClassifier\n",
    "from sklearn.metrics import r2_score\n",
    "from sklearn.metrics import mean_squared_error\n",
    "from sklearn.linear_model import SGDRegressor\n",
    "from sklearn.tree import DecisionTreeRegressor\n",
    "from sklearn.svm import SVR\n",
    "from sklearn.model_selection import cross_val_score"
   ]
  },
  {
   "cell_type": "code",
   "execution_count": 65,
   "id": "af6f64c7",
   "metadata": {},
   "outputs": [],
   "source": [
    "def rmse(y, y_hat):\n",
    "    mse = mean_squared_error(y, y_hat)\n",
    "    return np.sqrt(mse)"
   ]
  },
  {
   "cell_type": "markdown",
   "id": "9e55ff2d",
   "metadata": {},
   "source": [
    "### Model Training & Evaluation"
   ]
  },
  {
   "cell_type": "code",
   "execution_count": 66,
   "id": "15e7524b",
   "metadata": {},
   "outputs": [],
   "source": [
    "models = []\n",
    "accuracy = []\n",
    "precision = []\n",
    "recall = []\n",
    "f1_sc = []"
   ]
  },
  {
   "cell_type": "code",
   "execution_count": 67,
   "id": "e621c3d1",
   "metadata": {},
   "outputs": [],
   "source": [
    "def train_model(model):\n",
    "    model.fit(X_train_tr, y_train_tr)\n",
    "    y_pred = model.predict(X_test_tr)\n",
    "    print(classification_report(y_test_tr, y_pred))\n",
    "    \n",
    "    acc = accuracy_score(y_test_tr, y_pred)\n",
    "    pre = precision_score(y_test_tr, y_pred, average='micro')\n",
    "    rec = recall_score(y_test_tr, y_pred, average='micro')\n",
    "    f1  = f1_score(y_test_tr, y_pred, average='micro')\n",
    "    ConfusionMatrixDisplay.from_predictions(y_test_tr, y_pred)\n",
    "    \n",
    "    models.append(model)\n",
    "    accuracy.append(acc)\n",
    "    precision.append(pre)\n",
    "    recall.append(rec)\n",
    "    f1_sc.append(f1)"
   ]
  },
  {
   "cell_type": "code",
   "execution_count": 68,
   "id": "0db2c5c9",
   "metadata": {},
   "outputs": [
    {
     "name": "stdout",
     "output_type": "stream",
     "text": [
      "              precision    recall  f1-score   support\n",
      "\n",
      "           0       0.69      0.79      0.74     10626\n",
      "           1       0.70      0.66      0.68     10541\n",
      "           2       0.59      0.55      0.57     10606\n",
      "\n",
      "    accuracy                           0.66     31773\n",
      "   macro avg       0.66      0.66      0.66     31773\n",
      "weighted avg       0.66      0.66      0.66     31773\n",
      "\n"
     ]
    },
    {
     "data": {
      "image/png": "[encoded data removed]",
      "text/plain": [
       "<Figure size 432x288 with 2 Axes>"
      ]
     },
     "metadata": {
      "needs_background": "light"
     },
     "output_type": "display_data"
    }
   ],
   "source": [
    "train_model(LogisticRegression())"
   ]
  },
  {
   "cell_type": "code",
   "execution_count": 69,
   "id": "66d9202b",
   "metadata": {},
   "outputs": [
    {
     "name": "stdout",
     "output_type": "stream",
     "text": [
      "              precision    recall  f1-score   support\n",
      "\n",
      "           0       0.74      0.82      0.78     10626\n",
      "           1       0.47      0.88      0.61     10541\n",
      "           2       0.62      0.00      0.01     10606\n",
      "\n",
      "    accuracy                           0.57     31773\n",
      "   macro avg       0.61      0.57      0.47     31773\n",
      "weighted avg       0.61      0.57      0.47     31773\n",
      "\n"
     ]
    },
    {
     "data": {
      "image/png": "[encoded data removed]",
      "text/plain": [
       "<Figure size 432x288 with 2 Axes>"
      ]
     },
     "metadata": {
      "needs_background": "light"
     },
     "output_type": "display_data"
    }
   ],
   "source": [
    "train_model(GradientBoostingClassifier())"
   ]
  },
  {
   "cell_type": "code",
   "execution_count": 70,
   "id": "cd5ccdd1",
   "metadata": {},
   "outputs": [
    {
     "name": "stdout",
     "output_type": "stream",
     "text": [
      "              precision    recall  f1-score   support\n",
      "\n",
      "           0       0.65      0.95      0.77     10626\n",
      "           1       0.65      0.87      0.75     10541\n",
      "           2       0.87      0.16      0.27     10606\n",
      "\n",
      "    accuracy                           0.66     31773\n",
      "   macro avg       0.72      0.66      0.60     31773\n",
      "weighted avg       0.72      0.66      0.60     31773\n",
      "\n"
     ]
    },
    {
     "data": {
      "image/png": "[encoded data removed]",
      "text/plain": [
       "<Figure size 432x288 with 2 Axes>"
      ]
     },
     "metadata": {
      "needs_background": "light"
     },
     "output_type": "display_data"
    }
   ],
   "source": [
    "train_model(RandomForestClassifier())"
   ]
  },
  {
   "cell_type": "code",
   "execution_count": 71,
   "id": "aa94d4ab",
   "metadata": {},
   "outputs": [
    {
     "name": "stdout",
     "output_type": "stream",
     "text": [
      "              precision    recall  f1-score   support\n",
      "\n",
      "           0       0.58      0.95      0.72     10626\n",
      "           1       0.68      0.84      0.75     10541\n",
      "           2       0.77      0.10      0.18     10606\n",
      "\n",
      "    accuracy                           0.63     31773\n",
      "   macro avg       0.68      0.63      0.55     31773\n",
      "weighted avg       0.68      0.63      0.55     31773\n",
      "\n"
     ]
    },
    {
     "data": {
      "image/png": "[encoded data removed]",
      "text/plain": [
       "<Figure size 432x288 with 2 Axes>"
      ]
     },
     "metadata": {
      "needs_background": "light"
     },
     "output_type": "display_data"
    }
   ],
   "source": [
    "train_model(HistGradientBoostingClassifier())"
   ]
  },
  {
   "cell_type": "code",
   "execution_count": 73,
   "id": "7208927d",
   "metadata": {},
   "outputs": [
    {
     "name": "stdout",
     "output_type": "stream",
     "text": [
      "              precision    recall  f1-score   support\n",
      "\n",
      "           0       0.71      0.84      0.77     10626\n",
      "           1       0.74      0.73      0.74     10541\n",
      "           2       0.67      0.56      0.61     10606\n",
      "\n",
      "    accuracy                           0.71     31773\n",
      "   macro avg       0.71      0.71      0.71     31773\n",
      "weighted avg       0.71      0.71      0.71     31773\n",
      "\n"
     ]
    },
    {
     "data": {
      "image/png": "[encoded data removed]",
      "text/plain": [
       "<Figure size 432x288 with 2 Axes>"
      ]
     },
     "metadata": {
      "needs_background": "light"
     },
     "output_type": "display_data"
    }
   ],
   "source": [
    "train_model(KNeighborsClassifier())"
   ]
  },
  {
   "cell_type": "code",
   "execution_count": 74,
   "id": "ece2645d",
   "metadata": {},
   "outputs": [
    {
     "name": "stdout",
     "output_type": "stream",
     "text": [
      "              precision    recall  f1-score   support\n",
      "\n",
      "           0       0.80      0.93      0.86     10626\n",
      "           1       0.83      0.85      0.84     10541\n",
      "           2       0.85      0.69      0.76     10606\n",
      "\n",
      "    accuracy                           0.82     31773\n",
      "   macro avg       0.83      0.82      0.82     31773\n",
      "weighted avg       0.83      0.82      0.82     31773\n",
      "\n"
     ]
    },
    {
     "data": {
      "image/png": "[encoded data removed]",
      "text/plain": [
       "<Figure size 432x288 with 2 Axes>"
      ]
     },
     "metadata": {
      "needs_background": "light"
     },
     "output_type": "display_data"
    }
   ],
   "source": [
    "train_model(ExtraTreesClassifier())"
   ]
  },
  {
   "cell_type": "code",
   "execution_count": 75,
   "id": "7fc8ce9f",
   "metadata": {},
   "outputs": [
    {
     "name": "stdout",
     "output_type": "stream",
     "text": [
      "              precision    recall  f1-score   support\n",
      "\n",
      "           0       0.65      0.81      0.72     10626\n",
      "           1       0.55      0.79      0.65     10541\n",
      "           2       0.62      0.19      0.29     10606\n",
      "\n",
      "    accuracy                           0.60     31773\n",
      "   macro avg       0.61      0.60      0.55     31773\n",
      "weighted avg       0.61      0.60      0.55     31773\n",
      "\n"
     ]
    },
    {
     "data": {
      "image/png": "[encoded data removed]",
      "text/plain": [
       "<Figure size 432x288 with 2 Axes>"
      ]
     },
     "metadata": {
      "needs_background": "light"
     },
     "output_type": "display_data"
    }
   ],
   "source": [
    "train_model(DecisionTreeClassifier())"
   ]
  },
  {
   "cell_type": "code",
   "execution_count": 76,
   "id": "511f7d50",
   "metadata": {},
   "outputs": [
    {
     "name": "stdout",
     "output_type": "stream",
     "text": [
      "              precision    recall  f1-score   support\n",
      "\n",
      "           0       0.59      0.96      0.73     10626\n",
      "           1       0.71      0.84      0.77     10541\n",
      "           2       0.85      0.17      0.29     10606\n",
      "\n",
      "    accuracy                           0.66     31773\n",
      "   macro avg       0.72      0.66      0.60     31773\n",
      "weighted avg       0.72      0.66      0.60     31773\n",
      "\n"
     ]
    },
    {
     "data": {
      "image/png": "[encoded data removed]",
      "text/plain": [
       "<Figure size 432x288 with 2 Axes>"
      ]
     },
     "metadata": {
      "needs_background": "light"
     },
     "output_type": "display_data"
    }
   ],
   "source": [
    "train_model(VotingClassifier(estimators=[('RF', RandomForestClassifier()), ('KN', KNeighborsClassifier()), \n",
    "                                         ('HIST', HistGradientBoostingClassifier())], voting='hard'))"
   ]
  },
  {
   "cell_type": "markdown",
   "id": "bebdac7c",
   "metadata": {},
   "source": [
    "### Optimized Models Performance Comparision"
   ]
  },
  {
   "cell_type": "code",
   "execution_count": 77,
   "id": "c63933aa",
   "metadata": {},
   "outputs": [],
   "source": [
    "df = pd.DataFrame({'Model': models, 'Accuracy': accuracy, 'Precision': precision, \n",
    "                   'Recall': recall, 'F1 Score': f1_sc}).sort_values('Accuracy', ascending=False).reset_index(drop=True)"
   ]
  },
  {
   "cell_type": "code",
   "execution_count": 78,
   "id": "6d3e1dbc",
   "metadata": {},
   "outputs": [
    {
     "data": {
      "text/html": [
       "<div>\n",
       "<style scoped>\n",
       "    .dataframe tbody tr th:only-of-type {\n",
       "        vertical-align: middle;\n",
       "    }\n",
       "\n",
       "    .dataframe tbody tr th {\n",
       "        vertical-align: top;\n",
       "    }\n",
       "\n",
       "    .dataframe thead th {\n",
       "        text-align: right;\n",
       "    }\n",
       "</style>\n",
       "<table border=\"1\" class=\"dataframe\">\n",
       "  <thead>\n",
       "    <tr style=\"text-align: right;\">\n",
       "      <th></th>\n",
       "      <th>Model</th>\n",
       "      <th>Accuracy</th>\n",
       "      <th>Precision</th>\n",
       "      <th>Recall</th>\n",
       "      <th>F1 Score</th>\n",
       "    </tr>\n",
       "  </thead>\n",
       "  <tbody>\n",
       "    <tr>\n",
       "      <th>0</th>\n",
       "      <td>(ExtraTreeClassifier(random_state=292573945), ...</td>\n",
       "      <td>0.823372</td>\n",
       "      <td>0.823372</td>\n",
       "      <td>0.823372</td>\n",
       "      <td>0.823372</td>\n",
       "    </tr>\n",
       "    <tr>\n",
       "      <th>1</th>\n",
       "      <td>KNeighborsClassifier()</td>\n",
       "      <td>0.711485</td>\n",
       "      <td>0.711485</td>\n",
       "      <td>0.711485</td>\n",
       "      <td>0.711485</td>\n",
       "    </tr>\n",
       "    <tr>\n",
       "      <th>2</th>\n",
       "      <td>LogisticRegression()</td>\n",
       "      <td>0.663425</td>\n",
       "      <td>0.663425</td>\n",
       "      <td>0.663425</td>\n",
       "      <td>0.663425</td>\n",
       "    </tr>\n",
       "    <tr>\n",
       "      <th>3</th>\n",
       "      <td>(DecisionTreeClassifier(max_features='auto', r...</td>\n",
       "      <td>0.661725</td>\n",
       "      <td>0.661725</td>\n",
       "      <td>0.661725</td>\n",
       "      <td>0.661725</td>\n",
       "    </tr>\n",
       "    <tr>\n",
       "      <th>4</th>\n",
       "      <td>VotingClassifier(estimators=[('RF', RandomFore...</td>\n",
       "      <td>0.656627</td>\n",
       "      <td>0.656627</td>\n",
       "      <td>0.656627</td>\n",
       "      <td>0.656627</td>\n",
       "    </tr>\n",
       "    <tr>\n",
       "      <th>5</th>\n",
       "      <td>HistGradientBoostingClassifier()</td>\n",
       "      <td>0.626853</td>\n",
       "      <td>0.626853</td>\n",
       "      <td>0.626853</td>\n",
       "      <td>0.626853</td>\n",
       "    </tr>\n",
       "    <tr>\n",
       "      <th>6</th>\n",
       "      <td>DecisionTreeClassifier()</td>\n",
       "      <td>0.597929</td>\n",
       "      <td>0.597929</td>\n",
       "      <td>0.597929</td>\n",
       "      <td>0.597929</td>\n",
       "    </tr>\n",
       "    <tr>\n",
       "      <th>7</th>\n",
       "      <td>([DecisionTreeRegressor(criterion='friedman_ms...</td>\n",
       "      <td>0.568187</td>\n",
       "      <td>0.568187</td>\n",
       "      <td>0.568187</td>\n",
       "      <td>0.568187</td>\n",
       "    </tr>\n",
       "    <tr>\n",
       "      <th>8</th>\n",
       "      <td>([DecisionTreeRegressor(criterion='friedman_ms...</td>\n",
       "      <td>0.568187</td>\n",
       "      <td>0.568187</td>\n",
       "      <td>0.568187</td>\n",
       "      <td>0.568187</td>\n",
       "    </tr>\n",
       "  </tbody>\n",
       "</table>\n",
       "</div>"
      ],
      "text/plain": [
       "                                               Model  Accuracy  Precision  \\\n",
       "0  (ExtraTreeClassifier(random_state=292573945), ...  0.823372   0.823372   \n",
       "1                             KNeighborsClassifier()  0.711485   0.711485   \n",
       "2                               LogisticRegression()  0.663425   0.663425   \n",
       "3  (DecisionTreeClassifier(max_features='auto', r...  0.661725   0.661725   \n",
       "4  VotingClassifier(estimators=[('RF', RandomFore...  0.656627   0.656627   \n",
       "5                   HistGradientBoostingClassifier()  0.626853   0.626853   \n",
       "6                           DecisionTreeClassifier()  0.597929   0.597929   \n",
       "7  ([DecisionTreeRegressor(criterion='friedman_ms...  0.568187   0.568187   \n",
       "8  ([DecisionTreeRegressor(criterion='friedman_ms...  0.568187   0.568187   \n",
       "\n",
       "     Recall  F1 Score  \n",
       "0  0.823372  0.823372  \n",
       "1  0.711485  0.711485  \n",
       "2  0.663425  0.663425  \n",
       "3  0.661725  0.661725  \n",
       "4  0.656627  0.656627  \n",
       "5  0.626853  0.626853  \n",
       "6  0.597929  0.597929  \n",
       "7  0.568187  0.568187  \n",
       "8  0.568187  0.568187  "
      ]
     },
     "execution_count": 78,
     "metadata": {},
     "output_type": "execute_result"
    }
   ],
   "source": [
    "df"
   ]
  },
  {
   "cell_type": "code",
   "execution_count": 79,
   "id": "67b9535f",
   "metadata": {},
   "outputs": [
    {
     "name": "stdout",
     "output_type": "stream",
     "text": [
      " Average of Cross Validation Accuracy : 0.78\n"
     ]
    }
   ],
   "source": [
    "score = cross_val_score(estimator=ExtraTreesClassifier(), X=X_test_tr, y=y_test_tr, scoring='accuracy', cv=5)\n",
    "print(\" Average of Cross Validation Accuracy :\", round(np.mean(score),2))"
   ]
  },
  {
   "cell_type": "code",
   "execution_count": 80,
   "id": "cc8c949d",
   "metadata": {},
   "outputs": [
    {
     "data": {
      "text/plain": [
       "ExtraTreesClassifier()"
      ]
     },
     "execution_count": 80,
     "metadata": {},
     "output_type": "execute_result"
    }
   ],
   "source": [
    "Ext = ExtraTreesClassifier()\n",
    "Ext.fit(X_train_tr, y_train_tr)"
   ]
  },
  {
   "cell_type": "code",
   "execution_count": 81,
   "id": "a77a91f0",
   "metadata": {},
   "outputs": [
    {
     "name": "stdout",
     "output_type": "stream",
     "text": [
      "Accuracy of ExtraTreesClassifier: 0.8241903502974224\n"
     ]
    }
   ],
   "source": [
    "print(\"Accuracy of ExtraTreesClassifier:\", accuracy_score(y_test_tr, Ext.predict(X_test_tr)))"
   ]
  }
 ],
 "metadata": {
  "kernelspec": {
   "display_name": "Python 3 (ipykernel)",
   "language": "python",
   "name": "python3"
  },
  "language_info": {
   "codemirror_mode": {
    "name": "ipython",
    "version": 3
   },
   "file_extension": ".py",
   "mimetype": "text/x-python",
   "name": "python",
   "nbconvert_exporter": "python",
   "pygments_lexer": "ipython3",
   "version": "3.9.12"
  }
 },
 "nbformat": 4,
 "nbformat_minor": 5
}
